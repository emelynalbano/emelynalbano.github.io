{
  "nbformat": 4,
  "nbformat_minor": 0,
  "metadata": {
    "colab": {
      "provenance": [],
      "authorship_tag": "ABX9TyPUTeS10+C38a/RJ7NSZ2pP"
    },
    "kernelspec": {
      "name": "python3",
      "display_name": "Python 3"
    },
    "language_info": {
      "name": "python"
    }
  },
  "cells": [
    {
      "cell_type": "markdown",
      "source": [
        "# **Airline Loyalty Program**\n",
        "Customer loyalty program data from Northern Lights Air (NLA), a fictitious airline based in Canada. In an effort to improve program enrollment, NLA ran a promotion between Feb - Apr 2018. Dataset includes loyalty program signups, enrollment and cancellation details, and additional customer information.\n",
        "\n",
        "\n",
        "\n",
        "\n",
        "\n"
      ],
      "metadata": {
        "id": "hzYZt_xWa4YX"
      }
    },
    {
      "cell_type": "markdown",
      "source": [
        "**(1) Import libraries**"
      ],
      "metadata": {
        "id": "Jc0-YR1WbM1_"
      }
    },
    {
      "cell_type": "code",
      "source": [
        "import pandas as pd\n",
        "import numpy as np\n",
        "import matplotlib.pyplot as plt"
      ],
      "metadata": {
        "id": "ze7toqrJckuN"
      },
      "execution_count": 3,
      "outputs": []
    },
    {
      "cell_type": "markdown",
      "source": [
        "**(2) Upload and explore data set**"
      ],
      "metadata": {
        "id": "VIANN2C0csTG"
      }
    },
    {
      "cell_type": "code",
      "source": [
        "cfa = pd.read_csv(\"sample_data/Customer Flight Activity.csv\")\n",
        "clh = pd.read_csv(\"sample_data/Customer Loyalty History.csv\")"
      ],
      "metadata": {
        "id": "D261FfIga81K"
      },
      "execution_count": 5,
      "outputs": []
    },
    {
      "cell_type": "code",
      "source": [
        "#check first 5 rows of the df\n",
        "cfa.head()"
      ],
      "metadata": {
        "colab": {
          "base_uri": "https://localhost:8080/",
          "height": 206
        },
        "id": "YMCOGooJc7Ty",
        "outputId": "90b5f37e-dfff-419a-bee8-14a86b0a7015"
      },
      "execution_count": 6,
      "outputs": [
        {
          "output_type": "execute_result",
          "data": {
            "text/plain": [
              "   Loyalty Number  Year  Month  Total Flights  Distance  Points Accumulated  \\\n",
              "0          100590  2018      6           12.0   15276.0             22914.0   \n",
              "1          100590  2018      7           12.0    9168.0             13752.0   \n",
              "2          100590  2018      5            4.0    6504.0              9756.0   \n",
              "3          100590  2018     10            0.0       0.0                 0.0   \n",
              "4          100590  2018      2            0.0       0.0                 0.0   \n",
              "\n",
              "   Points Redeemed  Dollar Cost Points Redeemed  \n",
              "0              0.0                          0.0  \n",
              "1              0.0                          0.0  \n",
              "2              0.0                          0.0  \n",
              "3            512.0                         92.0  \n",
              "4              0.0                          0.0  "
            ],
            "text/html": [
              "\n",
              "  <div id=\"df-ec4aca2a-3f4d-405e-a3bf-f31efae7499d\" class=\"colab-df-container\">\n",
              "    <div>\n",
              "<style scoped>\n",
              "    .dataframe tbody tr th:only-of-type {\n",
              "        vertical-align: middle;\n",
              "    }\n",
              "\n",
              "    .dataframe tbody tr th {\n",
              "        vertical-align: top;\n",
              "    }\n",
              "\n",
              "    .dataframe thead th {\n",
              "        text-align: right;\n",
              "    }\n",
              "</style>\n",
              "<table border=\"1\" class=\"dataframe\">\n",
              "  <thead>\n",
              "    <tr style=\"text-align: right;\">\n",
              "      <th></th>\n",
              "      <th>Loyalty Number</th>\n",
              "      <th>Year</th>\n",
              "      <th>Month</th>\n",
              "      <th>Total Flights</th>\n",
              "      <th>Distance</th>\n",
              "      <th>Points Accumulated</th>\n",
              "      <th>Points Redeemed</th>\n",
              "      <th>Dollar Cost Points Redeemed</th>\n",
              "    </tr>\n",
              "  </thead>\n",
              "  <tbody>\n",
              "    <tr>\n",
              "      <th>0</th>\n",
              "      <td>100590</td>\n",
              "      <td>2018</td>\n",
              "      <td>6</td>\n",
              "      <td>12.0</td>\n",
              "      <td>15276.0</td>\n",
              "      <td>22914.0</td>\n",
              "      <td>0.0</td>\n",
              "      <td>0.0</td>\n",
              "    </tr>\n",
              "    <tr>\n",
              "      <th>1</th>\n",
              "      <td>100590</td>\n",
              "      <td>2018</td>\n",
              "      <td>7</td>\n",
              "      <td>12.0</td>\n",
              "      <td>9168.0</td>\n",
              "      <td>13752.0</td>\n",
              "      <td>0.0</td>\n",
              "      <td>0.0</td>\n",
              "    </tr>\n",
              "    <tr>\n",
              "      <th>2</th>\n",
              "      <td>100590</td>\n",
              "      <td>2018</td>\n",
              "      <td>5</td>\n",
              "      <td>4.0</td>\n",
              "      <td>6504.0</td>\n",
              "      <td>9756.0</td>\n",
              "      <td>0.0</td>\n",
              "      <td>0.0</td>\n",
              "    </tr>\n",
              "    <tr>\n",
              "      <th>3</th>\n",
              "      <td>100590</td>\n",
              "      <td>2018</td>\n",
              "      <td>10</td>\n",
              "      <td>0.0</td>\n",
              "      <td>0.0</td>\n",
              "      <td>0.0</td>\n",
              "      <td>512.0</td>\n",
              "      <td>92.0</td>\n",
              "    </tr>\n",
              "    <tr>\n",
              "      <th>4</th>\n",
              "      <td>100590</td>\n",
              "      <td>2018</td>\n",
              "      <td>2</td>\n",
              "      <td>0.0</td>\n",
              "      <td>0.0</td>\n",
              "      <td>0.0</td>\n",
              "      <td>0.0</td>\n",
              "      <td>0.0</td>\n",
              "    </tr>\n",
              "  </tbody>\n",
              "</table>\n",
              "</div>\n",
              "    <div class=\"colab-df-buttons\">\n",
              "\n",
              "  <div class=\"colab-df-container\">\n",
              "    <button class=\"colab-df-convert\" onclick=\"convertToInteractive('df-ec4aca2a-3f4d-405e-a3bf-f31efae7499d')\"\n",
              "            title=\"Convert this dataframe to an interactive table.\"\n",
              "            style=\"display:none;\">\n",
              "\n",
              "  <svg xmlns=\"http://www.w3.org/2000/svg\" height=\"24px\" viewBox=\"0 -960 960 960\">\n",
              "    <path d=\"M120-120v-720h720v720H120Zm60-500h600v-160H180v160Zm220 220h160v-160H400v160Zm0 220h160v-160H400v160ZM180-400h160v-160H180v160Zm440 0h160v-160H620v160ZM180-180h160v-160H180v160Zm440 0h160v-160H620v160Z\"/>\n",
              "  </svg>\n",
              "    </button>\n",
              "\n",
              "  <style>\n",
              "    .colab-df-container {\n",
              "      display:flex;\n",
              "      gap: 12px;\n",
              "    }\n",
              "\n",
              "    .colab-df-convert {\n",
              "      background-color: #E8F0FE;\n",
              "      border: none;\n",
              "      border-radius: 50%;\n",
              "      cursor: pointer;\n",
              "      display: none;\n",
              "      fill: #1967D2;\n",
              "      height: 32px;\n",
              "      padding: 0 0 0 0;\n",
              "      width: 32px;\n",
              "    }\n",
              "\n",
              "    .colab-df-convert:hover {\n",
              "      background-color: #E2EBFA;\n",
              "      box-shadow: 0px 1px 2px rgba(60, 64, 67, 0.3), 0px 1px 3px 1px rgba(60, 64, 67, 0.15);\n",
              "      fill: #174EA6;\n",
              "    }\n",
              "\n",
              "    .colab-df-buttons div {\n",
              "      margin-bottom: 4px;\n",
              "    }\n",
              "\n",
              "    [theme=dark] .colab-df-convert {\n",
              "      background-color: #3B4455;\n",
              "      fill: #D2E3FC;\n",
              "    }\n",
              "\n",
              "    [theme=dark] .colab-df-convert:hover {\n",
              "      background-color: #434B5C;\n",
              "      box-shadow: 0px 1px 3px 1px rgba(0, 0, 0, 0.15);\n",
              "      filter: drop-shadow(0px 1px 2px rgba(0, 0, 0, 0.3));\n",
              "      fill: #FFFFFF;\n",
              "    }\n",
              "  </style>\n",
              "\n",
              "    <script>\n",
              "      const buttonEl =\n",
              "        document.querySelector('#df-ec4aca2a-3f4d-405e-a3bf-f31efae7499d button.colab-df-convert');\n",
              "      buttonEl.style.display =\n",
              "        google.colab.kernel.accessAllowed ? 'block' : 'none';\n",
              "\n",
              "      async function convertToInteractive(key) {\n",
              "        const element = document.querySelector('#df-ec4aca2a-3f4d-405e-a3bf-f31efae7499d');\n",
              "        const dataTable =\n",
              "          await google.colab.kernel.invokeFunction('convertToInteractive',\n",
              "                                                    [key], {});\n",
              "        if (!dataTable) return;\n",
              "\n",
              "        const docLinkHtml = 'Like what you see? Visit the ' +\n",
              "          '<a target=\"_blank\" href=https://colab.research.google.com/notebooks/data_table.ipynb>data table notebook</a>'\n",
              "          + ' to learn more about interactive tables.';\n",
              "        element.innerHTML = '';\n",
              "        dataTable['output_type'] = 'display_data';\n",
              "        await google.colab.output.renderOutput(dataTable, element);\n",
              "        const docLink = document.createElement('div');\n",
              "        docLink.innerHTML = docLinkHtml;\n",
              "        element.appendChild(docLink);\n",
              "      }\n",
              "    </script>\n",
              "  </div>\n",
              "\n",
              "\n",
              "<div id=\"df-a97aa7af-7175-447c-a809-d3adbf34c533\">\n",
              "  <button class=\"colab-df-quickchart\" onclick=\"quickchart('df-a97aa7af-7175-447c-a809-d3adbf34c533')\"\n",
              "            title=\"Suggest charts\"\n",
              "            style=\"display:none;\">\n",
              "\n",
              "<svg xmlns=\"http://www.w3.org/2000/svg\" height=\"24px\"viewBox=\"0 0 24 24\"\n",
              "     width=\"24px\">\n",
              "    <g>\n",
              "        <path d=\"M19 3H5c-1.1 0-2 .9-2 2v14c0 1.1.9 2 2 2h14c1.1 0 2-.9 2-2V5c0-1.1-.9-2-2-2zM9 17H7v-7h2v7zm4 0h-2V7h2v10zm4 0h-2v-4h2v4z\"/>\n",
              "    </g>\n",
              "</svg>\n",
              "  </button>\n",
              "\n",
              "<style>\n",
              "  .colab-df-quickchart {\n",
              "      --bg-color: #E8F0FE;\n",
              "      --fill-color: #1967D2;\n",
              "      --hover-bg-color: #E2EBFA;\n",
              "      --hover-fill-color: #174EA6;\n",
              "      --disabled-fill-color: #AAA;\n",
              "      --disabled-bg-color: #DDD;\n",
              "  }\n",
              "\n",
              "  [theme=dark] .colab-df-quickchart {\n",
              "      --bg-color: #3B4455;\n",
              "      --fill-color: #D2E3FC;\n",
              "      --hover-bg-color: #434B5C;\n",
              "      --hover-fill-color: #FFFFFF;\n",
              "      --disabled-bg-color: #3B4455;\n",
              "      --disabled-fill-color: #666;\n",
              "  }\n",
              "\n",
              "  .colab-df-quickchart {\n",
              "    background-color: var(--bg-color);\n",
              "    border: none;\n",
              "    border-radius: 50%;\n",
              "    cursor: pointer;\n",
              "    display: none;\n",
              "    fill: var(--fill-color);\n",
              "    height: 32px;\n",
              "    padding: 0;\n",
              "    width: 32px;\n",
              "  }\n",
              "\n",
              "  .colab-df-quickchart:hover {\n",
              "    background-color: var(--hover-bg-color);\n",
              "    box-shadow: 0 1px 2px rgba(60, 64, 67, 0.3), 0 1px 3px 1px rgba(60, 64, 67, 0.15);\n",
              "    fill: var(--button-hover-fill-color);\n",
              "  }\n",
              "\n",
              "  .colab-df-quickchart-complete:disabled,\n",
              "  .colab-df-quickchart-complete:disabled:hover {\n",
              "    background-color: var(--disabled-bg-color);\n",
              "    fill: var(--disabled-fill-color);\n",
              "    box-shadow: none;\n",
              "  }\n",
              "\n",
              "  .colab-df-spinner {\n",
              "    border: 2px solid var(--fill-color);\n",
              "    border-color: transparent;\n",
              "    border-bottom-color: var(--fill-color);\n",
              "    animation:\n",
              "      spin 1s steps(1) infinite;\n",
              "  }\n",
              "\n",
              "  @keyframes spin {\n",
              "    0% {\n",
              "      border-color: transparent;\n",
              "      border-bottom-color: var(--fill-color);\n",
              "      border-left-color: var(--fill-color);\n",
              "    }\n",
              "    20% {\n",
              "      border-color: transparent;\n",
              "      border-left-color: var(--fill-color);\n",
              "      border-top-color: var(--fill-color);\n",
              "    }\n",
              "    30% {\n",
              "      border-color: transparent;\n",
              "      border-left-color: var(--fill-color);\n",
              "      border-top-color: var(--fill-color);\n",
              "      border-right-color: var(--fill-color);\n",
              "    }\n",
              "    40% {\n",
              "      border-color: transparent;\n",
              "      border-right-color: var(--fill-color);\n",
              "      border-top-color: var(--fill-color);\n",
              "    }\n",
              "    60% {\n",
              "      border-color: transparent;\n",
              "      border-right-color: var(--fill-color);\n",
              "    }\n",
              "    80% {\n",
              "      border-color: transparent;\n",
              "      border-right-color: var(--fill-color);\n",
              "      border-bottom-color: var(--fill-color);\n",
              "    }\n",
              "    90% {\n",
              "      border-color: transparent;\n",
              "      border-bottom-color: var(--fill-color);\n",
              "    }\n",
              "  }\n",
              "</style>\n",
              "\n",
              "  <script>\n",
              "    async function quickchart(key) {\n",
              "      const quickchartButtonEl =\n",
              "        document.querySelector('#' + key + ' button');\n",
              "      quickchartButtonEl.disabled = true;  // To prevent multiple clicks.\n",
              "      quickchartButtonEl.classList.add('colab-df-spinner');\n",
              "      try {\n",
              "        const charts = await google.colab.kernel.invokeFunction(\n",
              "            'suggestCharts', [key], {});\n",
              "      } catch (error) {\n",
              "        console.error('Error during call to suggestCharts:', error);\n",
              "      }\n",
              "      quickchartButtonEl.classList.remove('colab-df-spinner');\n",
              "      quickchartButtonEl.classList.add('colab-df-quickchart-complete');\n",
              "    }\n",
              "    (() => {\n",
              "      let quickchartButtonEl =\n",
              "        document.querySelector('#df-a97aa7af-7175-447c-a809-d3adbf34c533 button');\n",
              "      quickchartButtonEl.style.display =\n",
              "        google.colab.kernel.accessAllowed ? 'block' : 'none';\n",
              "    })();\n",
              "  </script>\n",
              "</div>\n",
              "    </div>\n",
              "  </div>\n"
            ],
            "application/vnd.google.colaboratory.intrinsic+json": {
              "type": "dataframe",
              "variable_name": "cfa",
              "summary": "{\n  \"name\": \"cfa\",\n  \"rows\": 99323,\n  \"fields\": [\n    {\n      \"column\": \"Loyalty Number\",\n      \"properties\": {\n        \"dtype\": \"number\",\n        \"std\": 261087,\n        \"min\": 100018,\n        \"max\": 999982,\n        \"samples\": [\n          711864,\n          442980,\n          505798\n        ],\n        \"num_unique_values\": 14137,\n        \"semantic_type\": \"\",\n        \"description\": \"\"\n      }\n    },\n    {\n      \"column\": \"Year\",\n      \"properties\": {\n        \"dtype\": \"number\",\n        \"std\": 0,\n        \"min\": 2017,\n        \"max\": 2018,\n        \"samples\": [\n          2017,\n          2018\n        ],\n        \"num_unique_values\": 2,\n        \"semantic_type\": \"\",\n        \"description\": \"\"\n      }\n    },\n    {\n      \"column\": \"Month\",\n      \"properties\": {\n        \"dtype\": \"number\",\n        \"std\": 3,\n        \"min\": 1,\n        \"max\": 12,\n        \"samples\": [\n          12,\n          11\n        ],\n        \"num_unique_values\": 12,\n        \"semantic_type\": \"\",\n        \"description\": \"\"\n      }\n    },\n    {\n      \"column\": \"Total Flights\",\n      \"properties\": {\n        \"dtype\": \"number\",\n        \"std\": 1.4262064171674842,\n        \"min\": 0.0,\n        \"max\": 28.0,\n        \"samples\": [\n          12.0,\n          4.0\n        ],\n        \"num_unique_values\": 17,\n        \"semantic_type\": \"\",\n        \"description\": \"\"\n      }\n    },\n    {\n      \"column\": \"Distance\",\n      \"properties\": {\n        \"dtype\": \"number\",\n        \"std\": 3139.4121307645073,\n        \"min\": 0.0,\n        \"max\": 65184.0,\n        \"samples\": [\n          4630.0,\n          14448.0\n        ],\n        \"num_unique_values\": 7324,\n        \"semantic_type\": \"\",\n        \"description\": \"\"\n      }\n    },\n    {\n      \"column\": \"Points Accumulated\",\n      \"properties\": {\n        \"dtype\": \"number\",\n        \"std\": 3685.9363280763273,\n        \"min\": 0.0,\n        \"max\": 97776.0,\n        \"samples\": [\n          5799.0,\n          6564.0\n        ],\n        \"num_unique_values\": 7525,\n        \"semantic_type\": \"\",\n        \"description\": \"\"\n      }\n    },\n    {\n      \"column\": \"Points Redeemed\",\n      \"properties\": {\n        \"dtype\": \"number\",\n        \"std\": 169.82086784596515,\n        \"min\": 0.0,\n        \"max\": 876.0,\n        \"samples\": [\n          809.0,\n          788.0\n        ],\n        \"num_unique_values\": 578,\n        \"semantic_type\": \"\",\n        \"description\": \"\"\n      }\n    },\n    {\n      \"column\": \"Dollar Cost Points Redeemed\",\n      \"properties\": {\n        \"dtype\": \"number\",\n        \"std\": 30.57344523898327,\n        \"min\": 0.0,\n        \"max\": 158.0,\n        \"samples\": [\n          120.0,\n          79.0\n        ],\n        \"num_unique_values\": 108,\n        \"semantic_type\": \"\",\n        \"description\": \"\"\n      }\n    }\n  ]\n}"
            }
          },
          "metadata": {},
          "execution_count": 6
        }
      ]
    },
    {
      "cell_type": "code",
      "source": [
        "#check first 5 rows of the df\n",
        "clh.head()"
      ],
      "metadata": {
        "colab": {
          "base_uri": "https://localhost:8080/",
          "height": 241
        },
        "id": "DIDnXXphdOPX",
        "outputId": "795a1f07-2ea1-4ed8-a460-dfb12d489ce7"
      },
      "execution_count": 7,
      "outputs": [
        {
          "output_type": "execute_result",
          "data": {
            "text/plain": [
              "   Loyalty Number Country          Province       City Postal Code  Gender  \\\n",
              "0          480934  Canada           Ontario    Toronto     M2Z 4K1  Female   \n",
              "1          549612  Canada           Alberta   Edmonton     T3G 6Y6    Male   \n",
              "2          429460  Canada  British Columbia  Vancouver     V6E 3D9    Male   \n",
              "3          608370  Canada           Ontario    Toronto     P1W 1K4    Male   \n",
              "4          530508  Canada            Quebec       Hull     J8Y 3Z5    Male   \n",
              "\n",
              "  Education    Salary Marital Status Loyalty Card      CLV Enrollment Type  \\\n",
              "0  Bachelor   83236.0        Married         Star  3839.14        Standard   \n",
              "1   College       NaN       Divorced         Star  3839.61        Standard   \n",
              "2   College       NaN         Single         Star  3839.75        Standard   \n",
              "3   College       NaN         Single         Star  3839.75        Standard   \n",
              "4  Bachelor  103495.0        Married         Star  3842.79        Standard   \n",
              "\n",
              "   Enrollment Year  Enrollment Month  Cancellation Year  Cancellation Month  \n",
              "0             2016                 2                NaN                 NaN  \n",
              "1             2016                 3                NaN                 NaN  \n",
              "2             2014                 7             2018.0                 1.0  \n",
              "3             2013                 2                NaN                 NaN  \n",
              "4             2014                10                NaN                 NaN  "
            ],
            "text/html": [
              "\n",
              "  <div id=\"df-c7d573b5-6f31-4b70-8bec-3576350ca9c6\" class=\"colab-df-container\">\n",
              "    <div>\n",
              "<style scoped>\n",
              "    .dataframe tbody tr th:only-of-type {\n",
              "        vertical-align: middle;\n",
              "    }\n",
              "\n",
              "    .dataframe tbody tr th {\n",
              "        vertical-align: top;\n",
              "    }\n",
              "\n",
              "    .dataframe thead th {\n",
              "        text-align: right;\n",
              "    }\n",
              "</style>\n",
              "<table border=\"1\" class=\"dataframe\">\n",
              "  <thead>\n",
              "    <tr style=\"text-align: right;\">\n",
              "      <th></th>\n",
              "      <th>Loyalty Number</th>\n",
              "      <th>Country</th>\n",
              "      <th>Province</th>\n",
              "      <th>City</th>\n",
              "      <th>Postal Code</th>\n",
              "      <th>Gender</th>\n",
              "      <th>Education</th>\n",
              "      <th>Salary</th>\n",
              "      <th>Marital Status</th>\n",
              "      <th>Loyalty Card</th>\n",
              "      <th>CLV</th>\n",
              "      <th>Enrollment Type</th>\n",
              "      <th>Enrollment Year</th>\n",
              "      <th>Enrollment Month</th>\n",
              "      <th>Cancellation Year</th>\n",
              "      <th>Cancellation Month</th>\n",
              "    </tr>\n",
              "  </thead>\n",
              "  <tbody>\n",
              "    <tr>\n",
              "      <th>0</th>\n",
              "      <td>480934</td>\n",
              "      <td>Canada</td>\n",
              "      <td>Ontario</td>\n",
              "      <td>Toronto</td>\n",
              "      <td>M2Z 4K1</td>\n",
              "      <td>Female</td>\n",
              "      <td>Bachelor</td>\n",
              "      <td>83236.0</td>\n",
              "      <td>Married</td>\n",
              "      <td>Star</td>\n",
              "      <td>3839.14</td>\n",
              "      <td>Standard</td>\n",
              "      <td>2016</td>\n",
              "      <td>2</td>\n",
              "      <td>NaN</td>\n",
              "      <td>NaN</td>\n",
              "    </tr>\n",
              "    <tr>\n",
              "      <th>1</th>\n",
              "      <td>549612</td>\n",
              "      <td>Canada</td>\n",
              "      <td>Alberta</td>\n",
              "      <td>Edmonton</td>\n",
              "      <td>T3G 6Y6</td>\n",
              "      <td>Male</td>\n",
              "      <td>College</td>\n",
              "      <td>NaN</td>\n",
              "      <td>Divorced</td>\n",
              "      <td>Star</td>\n",
              "      <td>3839.61</td>\n",
              "      <td>Standard</td>\n",
              "      <td>2016</td>\n",
              "      <td>3</td>\n",
              "      <td>NaN</td>\n",
              "      <td>NaN</td>\n",
              "    </tr>\n",
              "    <tr>\n",
              "      <th>2</th>\n",
              "      <td>429460</td>\n",
              "      <td>Canada</td>\n",
              "      <td>British Columbia</td>\n",
              "      <td>Vancouver</td>\n",
              "      <td>V6E 3D9</td>\n",
              "      <td>Male</td>\n",
              "      <td>College</td>\n",
              "      <td>NaN</td>\n",
              "      <td>Single</td>\n",
              "      <td>Star</td>\n",
              "      <td>3839.75</td>\n",
              "      <td>Standard</td>\n",
              "      <td>2014</td>\n",
              "      <td>7</td>\n",
              "      <td>2018.0</td>\n",
              "      <td>1.0</td>\n",
              "    </tr>\n",
              "    <tr>\n",
              "      <th>3</th>\n",
              "      <td>608370</td>\n",
              "      <td>Canada</td>\n",
              "      <td>Ontario</td>\n",
              "      <td>Toronto</td>\n",
              "      <td>P1W 1K4</td>\n",
              "      <td>Male</td>\n",
              "      <td>College</td>\n",
              "      <td>NaN</td>\n",
              "      <td>Single</td>\n",
              "      <td>Star</td>\n",
              "      <td>3839.75</td>\n",
              "      <td>Standard</td>\n",
              "      <td>2013</td>\n",
              "      <td>2</td>\n",
              "      <td>NaN</td>\n",
              "      <td>NaN</td>\n",
              "    </tr>\n",
              "    <tr>\n",
              "      <th>4</th>\n",
              "      <td>530508</td>\n",
              "      <td>Canada</td>\n",
              "      <td>Quebec</td>\n",
              "      <td>Hull</td>\n",
              "      <td>J8Y 3Z5</td>\n",
              "      <td>Male</td>\n",
              "      <td>Bachelor</td>\n",
              "      <td>103495.0</td>\n",
              "      <td>Married</td>\n",
              "      <td>Star</td>\n",
              "      <td>3842.79</td>\n",
              "      <td>Standard</td>\n",
              "      <td>2014</td>\n",
              "      <td>10</td>\n",
              "      <td>NaN</td>\n",
              "      <td>NaN</td>\n",
              "    </tr>\n",
              "  </tbody>\n",
              "</table>\n",
              "</div>\n",
              "    <div class=\"colab-df-buttons\">\n",
              "\n",
              "  <div class=\"colab-df-container\">\n",
              "    <button class=\"colab-df-convert\" onclick=\"convertToInteractive('df-c7d573b5-6f31-4b70-8bec-3576350ca9c6')\"\n",
              "            title=\"Convert this dataframe to an interactive table.\"\n",
              "            style=\"display:none;\">\n",
              "\n",
              "  <svg xmlns=\"http://www.w3.org/2000/svg\" height=\"24px\" viewBox=\"0 -960 960 960\">\n",
              "    <path d=\"M120-120v-720h720v720H120Zm60-500h600v-160H180v160Zm220 220h160v-160H400v160Zm0 220h160v-160H400v160ZM180-400h160v-160H180v160Zm440 0h160v-160H620v160ZM180-180h160v-160H180v160Zm440 0h160v-160H620v160Z\"/>\n",
              "  </svg>\n",
              "    </button>\n",
              "\n",
              "  <style>\n",
              "    .colab-df-container {\n",
              "      display:flex;\n",
              "      gap: 12px;\n",
              "    }\n",
              "\n",
              "    .colab-df-convert {\n",
              "      background-color: #E8F0FE;\n",
              "      border: none;\n",
              "      border-radius: 50%;\n",
              "      cursor: pointer;\n",
              "      display: none;\n",
              "      fill: #1967D2;\n",
              "      height: 32px;\n",
              "      padding: 0 0 0 0;\n",
              "      width: 32px;\n",
              "    }\n",
              "\n",
              "    .colab-df-convert:hover {\n",
              "      background-color: #E2EBFA;\n",
              "      box-shadow: 0px 1px 2px rgba(60, 64, 67, 0.3), 0px 1px 3px 1px rgba(60, 64, 67, 0.15);\n",
              "      fill: #174EA6;\n",
              "    }\n",
              "\n",
              "    .colab-df-buttons div {\n",
              "      margin-bottom: 4px;\n",
              "    }\n",
              "\n",
              "    [theme=dark] .colab-df-convert {\n",
              "      background-color: #3B4455;\n",
              "      fill: #D2E3FC;\n",
              "    }\n",
              "\n",
              "    [theme=dark] .colab-df-convert:hover {\n",
              "      background-color: #434B5C;\n",
              "      box-shadow: 0px 1px 3px 1px rgba(0, 0, 0, 0.15);\n",
              "      filter: drop-shadow(0px 1px 2px rgba(0, 0, 0, 0.3));\n",
              "      fill: #FFFFFF;\n",
              "    }\n",
              "  </style>\n",
              "\n",
              "    <script>\n",
              "      const buttonEl =\n",
              "        document.querySelector('#df-c7d573b5-6f31-4b70-8bec-3576350ca9c6 button.colab-df-convert');\n",
              "      buttonEl.style.display =\n",
              "        google.colab.kernel.accessAllowed ? 'block' : 'none';\n",
              "\n",
              "      async function convertToInteractive(key) {\n",
              "        const element = document.querySelector('#df-c7d573b5-6f31-4b70-8bec-3576350ca9c6');\n",
              "        const dataTable =\n",
              "          await google.colab.kernel.invokeFunction('convertToInteractive',\n",
              "                                                    [key], {});\n",
              "        if (!dataTable) return;\n",
              "\n",
              "        const docLinkHtml = 'Like what you see? Visit the ' +\n",
              "          '<a target=\"_blank\" href=https://colab.research.google.com/notebooks/data_table.ipynb>data table notebook</a>'\n",
              "          + ' to learn more about interactive tables.';\n",
              "        element.innerHTML = '';\n",
              "        dataTable['output_type'] = 'display_data';\n",
              "        await google.colab.output.renderOutput(dataTable, element);\n",
              "        const docLink = document.createElement('div');\n",
              "        docLink.innerHTML = docLinkHtml;\n",
              "        element.appendChild(docLink);\n",
              "      }\n",
              "    </script>\n",
              "  </div>\n",
              "\n",
              "\n",
              "<div id=\"df-3250cfed-107d-47e4-815a-cba26938ecab\">\n",
              "  <button class=\"colab-df-quickchart\" onclick=\"quickchart('df-3250cfed-107d-47e4-815a-cba26938ecab')\"\n",
              "            title=\"Suggest charts\"\n",
              "            style=\"display:none;\">\n",
              "\n",
              "<svg xmlns=\"http://www.w3.org/2000/svg\" height=\"24px\"viewBox=\"0 0 24 24\"\n",
              "     width=\"24px\">\n",
              "    <g>\n",
              "        <path d=\"M19 3H5c-1.1 0-2 .9-2 2v14c0 1.1.9 2 2 2h14c1.1 0 2-.9 2-2V5c0-1.1-.9-2-2-2zM9 17H7v-7h2v7zm4 0h-2V7h2v10zm4 0h-2v-4h2v4z\"/>\n",
              "    </g>\n",
              "</svg>\n",
              "  </button>\n",
              "\n",
              "<style>\n",
              "  .colab-df-quickchart {\n",
              "      --bg-color: #E8F0FE;\n",
              "      --fill-color: #1967D2;\n",
              "      --hover-bg-color: #E2EBFA;\n",
              "      --hover-fill-color: #174EA6;\n",
              "      --disabled-fill-color: #AAA;\n",
              "      --disabled-bg-color: #DDD;\n",
              "  }\n",
              "\n",
              "  [theme=dark] .colab-df-quickchart {\n",
              "      --bg-color: #3B4455;\n",
              "      --fill-color: #D2E3FC;\n",
              "      --hover-bg-color: #434B5C;\n",
              "      --hover-fill-color: #FFFFFF;\n",
              "      --disabled-bg-color: #3B4455;\n",
              "      --disabled-fill-color: #666;\n",
              "  }\n",
              "\n",
              "  .colab-df-quickchart {\n",
              "    background-color: var(--bg-color);\n",
              "    border: none;\n",
              "    border-radius: 50%;\n",
              "    cursor: pointer;\n",
              "    display: none;\n",
              "    fill: var(--fill-color);\n",
              "    height: 32px;\n",
              "    padding: 0;\n",
              "    width: 32px;\n",
              "  }\n",
              "\n",
              "  .colab-df-quickchart:hover {\n",
              "    background-color: var(--hover-bg-color);\n",
              "    box-shadow: 0 1px 2px rgba(60, 64, 67, 0.3), 0 1px 3px 1px rgba(60, 64, 67, 0.15);\n",
              "    fill: var(--button-hover-fill-color);\n",
              "  }\n",
              "\n",
              "  .colab-df-quickchart-complete:disabled,\n",
              "  .colab-df-quickchart-complete:disabled:hover {\n",
              "    background-color: var(--disabled-bg-color);\n",
              "    fill: var(--disabled-fill-color);\n",
              "    box-shadow: none;\n",
              "  }\n",
              "\n",
              "  .colab-df-spinner {\n",
              "    border: 2px solid var(--fill-color);\n",
              "    border-color: transparent;\n",
              "    border-bottom-color: var(--fill-color);\n",
              "    animation:\n",
              "      spin 1s steps(1) infinite;\n",
              "  }\n",
              "\n",
              "  @keyframes spin {\n",
              "    0% {\n",
              "      border-color: transparent;\n",
              "      border-bottom-color: var(--fill-color);\n",
              "      border-left-color: var(--fill-color);\n",
              "    }\n",
              "    20% {\n",
              "      border-color: transparent;\n",
              "      border-left-color: var(--fill-color);\n",
              "      border-top-color: var(--fill-color);\n",
              "    }\n",
              "    30% {\n",
              "      border-color: transparent;\n",
              "      border-left-color: var(--fill-color);\n",
              "      border-top-color: var(--fill-color);\n",
              "      border-right-color: var(--fill-color);\n",
              "    }\n",
              "    40% {\n",
              "      border-color: transparent;\n",
              "      border-right-color: var(--fill-color);\n",
              "      border-top-color: var(--fill-color);\n",
              "    }\n",
              "    60% {\n",
              "      border-color: transparent;\n",
              "      border-right-color: var(--fill-color);\n",
              "    }\n",
              "    80% {\n",
              "      border-color: transparent;\n",
              "      border-right-color: var(--fill-color);\n",
              "      border-bottom-color: var(--fill-color);\n",
              "    }\n",
              "    90% {\n",
              "      border-color: transparent;\n",
              "      border-bottom-color: var(--fill-color);\n",
              "    }\n",
              "  }\n",
              "</style>\n",
              "\n",
              "  <script>\n",
              "    async function quickchart(key) {\n",
              "      const quickchartButtonEl =\n",
              "        document.querySelector('#' + key + ' button');\n",
              "      quickchartButtonEl.disabled = true;  // To prevent multiple clicks.\n",
              "      quickchartButtonEl.classList.add('colab-df-spinner');\n",
              "      try {\n",
              "        const charts = await google.colab.kernel.invokeFunction(\n",
              "            'suggestCharts', [key], {});\n",
              "      } catch (error) {\n",
              "        console.error('Error during call to suggestCharts:', error);\n",
              "      }\n",
              "      quickchartButtonEl.classList.remove('colab-df-spinner');\n",
              "      quickchartButtonEl.classList.add('colab-df-quickchart-complete');\n",
              "    }\n",
              "    (() => {\n",
              "      let quickchartButtonEl =\n",
              "        document.querySelector('#df-3250cfed-107d-47e4-815a-cba26938ecab button');\n",
              "      quickchartButtonEl.style.display =\n",
              "        google.colab.kernel.accessAllowed ? 'block' : 'none';\n",
              "    })();\n",
              "  </script>\n",
              "</div>\n",
              "    </div>\n",
              "  </div>\n"
            ],
            "application/vnd.google.colaboratory.intrinsic+json": {
              "type": "dataframe",
              "variable_name": "clh",
              "summary": "{\n  \"name\": \"clh\",\n  \"rows\": 16737,\n  \"fields\": [\n    {\n      \"column\": \"Loyalty Number\",\n      \"properties\": {\n        \"dtype\": \"number\",\n        \"std\": 258912,\n        \"min\": 100018,\n        \"max\": 999986,\n        \"samples\": [\n          232533,\n          381065,\n          974500\n        ],\n        \"num_unique_values\": 16737,\n        \"semantic_type\": \"\",\n        \"description\": \"\"\n      }\n    },\n    {\n      \"column\": \"Country\",\n      \"properties\": {\n        \"dtype\": \"category\",\n        \"samples\": [\n          \"Canada\"\n        ],\n        \"num_unique_values\": 1,\n        \"semantic_type\": \"\",\n        \"description\": \"\"\n      }\n    },\n    {\n      \"column\": \"Province\",\n      \"properties\": {\n        \"dtype\": \"category\",\n        \"samples\": [\n          \"New Brunswick\"\n        ],\n        \"num_unique_values\": 11,\n        \"semantic_type\": \"\",\n        \"description\": \"\"\n      }\n    },\n    {\n      \"column\": \"City\",\n      \"properties\": {\n        \"dtype\": \"category\",\n        \"samples\": [\n          \"Moncton\"\n        ],\n        \"num_unique_values\": 29,\n        \"semantic_type\": \"\",\n        \"description\": \"\"\n      }\n    },\n    {\n      \"column\": \"Postal Code\",\n      \"properties\": {\n        \"dtype\": \"category\",\n        \"samples\": [\n          \"V6E 3Z3\"\n        ],\n        \"num_unique_values\": 55,\n        \"semantic_type\": \"\",\n        \"description\": \"\"\n      }\n    },\n    {\n      \"column\": \"Gender\",\n      \"properties\": {\n        \"dtype\": \"category\",\n        \"samples\": [\n          \"Male\"\n        ],\n        \"num_unique_values\": 2,\n        \"semantic_type\": \"\",\n        \"description\": \"\"\n      }\n    },\n    {\n      \"column\": \"Education\",\n      \"properties\": {\n        \"dtype\": \"category\",\n        \"samples\": [\n          \"College\"\n        ],\n        \"num_unique_values\": 5,\n        \"semantic_type\": \"\",\n        \"description\": \"\"\n      }\n    },\n    {\n      \"column\": \"Salary\",\n      \"properties\": {\n        \"dtype\": \"number\",\n        \"std\": 35008.29728510284,\n        \"min\": -58486.0,\n        \"max\": 407228.0,\n        \"samples\": [\n          74758.0\n        ],\n        \"num_unique_values\": 5890,\n        \"semantic_type\": \"\",\n        \"description\": \"\"\n      }\n    },\n    {\n      \"column\": \"Marital Status\",\n      \"properties\": {\n        \"dtype\": \"category\",\n        \"samples\": [\n          \"Married\"\n        ],\n        \"num_unique_values\": 3,\n        \"semantic_type\": \"\",\n        \"description\": \"\"\n      }\n    },\n    {\n      \"column\": \"Loyalty Card\",\n      \"properties\": {\n        \"dtype\": \"category\",\n        \"samples\": [\n          \"Star\"\n        ],\n        \"num_unique_values\": 3,\n        \"semantic_type\": \"\",\n        \"description\": \"\"\n      }\n    },\n    {\n      \"column\": \"CLV\",\n      \"properties\": {\n        \"dtype\": \"number\",\n        \"std\": 6860.982280053858,\n        \"min\": 1898.01,\n        \"max\": 83325.38,\n        \"samples\": [\n          7153.67\n        ],\n        \"num_unique_values\": 7984,\n        \"semantic_type\": \"\",\n        \"description\": \"\"\n      }\n    },\n    {\n      \"column\": \"Enrollment Type\",\n      \"properties\": {\n        \"dtype\": \"category\",\n        \"samples\": [\n          \"2018 Promotion\"\n        ],\n        \"num_unique_values\": 2,\n        \"semantic_type\": \"\",\n        \"description\": \"\"\n      }\n    },\n    {\n      \"column\": \"Enrollment Year\",\n      \"properties\": {\n        \"dtype\": \"number\",\n        \"std\": 1,\n        \"min\": 2012,\n        \"max\": 2018,\n        \"samples\": [\n          2016\n        ],\n        \"num_unique_values\": 7,\n        \"semantic_type\": \"\",\n        \"description\": \"\"\n      }\n    },\n    {\n      \"column\": \"Enrollment Month\",\n      \"properties\": {\n        \"dtype\": \"number\",\n        \"std\": 3,\n        \"min\": 1,\n        \"max\": 12,\n        \"samples\": [\n          4\n        ],\n        \"num_unique_values\": 12,\n        \"semantic_type\": \"\",\n        \"description\": \"\"\n      }\n    },\n    {\n      \"column\": \"Cancellation Year\",\n      \"properties\": {\n        \"dtype\": \"number\",\n        \"std\": 1.3807432303737215,\n        \"min\": 2013.0,\n        \"max\": 2018.0,\n        \"samples\": [\n          2018.0\n        ],\n        \"num_unique_values\": 6,\n        \"semantic_type\": \"\",\n        \"description\": \"\"\n      }\n    },\n    {\n      \"column\": \"Cancellation Month\",\n      \"properties\": {\n        \"dtype\": \"number\",\n        \"std\": 3.4552968437811717,\n        \"min\": 1.0,\n        \"max\": 12.0,\n        \"samples\": [\n          9.0\n        ],\n        \"num_unique_values\": 12,\n        \"semantic_type\": \"\",\n        \"description\": \"\"\n      }\n    }\n  ]\n}"
            }
          },
          "metadata": {},
          "execution_count": 7
        }
      ]
    },
    {
      "cell_type": "code",
      "source": [
        "#check data type\n",
        "clh.info()"
      ],
      "metadata": {
        "colab": {
          "base_uri": "https://localhost:8080/",
          "height": 0
        },
        "id": "hxXT-lxydQcD",
        "outputId": "f45d0746-3d02-44c6-89ba-da88b8b97881"
      },
      "execution_count": 8,
      "outputs": [
        {
          "output_type": "stream",
          "name": "stdout",
          "text": [
            "<class 'pandas.core.frame.DataFrame'>\n",
            "RangeIndex: 16737 entries, 0 to 16736\n",
            "Data columns (total 16 columns):\n",
            " #   Column              Non-Null Count  Dtype  \n",
            "---  ------              --------------  -----  \n",
            " 0   Loyalty Number      16737 non-null  int64  \n",
            " 1   Country             16737 non-null  object \n",
            " 2   Province            16737 non-null  object \n",
            " 3   City                16737 non-null  object \n",
            " 4   Postal Code         16737 non-null  object \n",
            " 5   Gender              16737 non-null  object \n",
            " 6   Education           16737 non-null  object \n",
            " 7   Salary              12499 non-null  float64\n",
            " 8   Marital Status      16737 non-null  object \n",
            " 9   Loyalty Card        16737 non-null  object \n",
            " 10  CLV                 16737 non-null  float64\n",
            " 11  Enrollment Type     16737 non-null  object \n",
            " 12  Enrollment Year     16737 non-null  int64  \n",
            " 13  Enrollment Month    16737 non-null  int64  \n",
            " 14  Cancellation Year   2067 non-null   float64\n",
            " 15  Cancellation Month  2067 non-null   float64\n",
            "dtypes: float64(4), int64(3), object(9)\n",
            "memory usage: 2.0+ MB\n"
          ]
        }
      ]
    },
    {
      "cell_type": "code",
      "source": [
        "#convert cancellation year and month to integer instead of decimal (float)\n",
        "clh['Cancellation Year'] = clh['Cancellation Year'].astype('Int64')  # 'Int64' allows for NaN values\n",
        "clh['Cancellation Month'] = clh['Cancellation Month'].astype('Int64')\n",
        "clh.info()"
      ],
      "metadata": {
        "colab": {
          "base_uri": "https://localhost:8080/",
          "height": 0
        },
        "id": "IqQ4bV9F-WCE",
        "outputId": "941a2c41-5a06-43fc-adf1-bf227b3ac325"
      },
      "execution_count": 29,
      "outputs": [
        {
          "output_type": "stream",
          "name": "stdout",
          "text": [
            "<class 'pandas.core.frame.DataFrame'>\n",
            "RangeIndex: 16737 entries, 0 to 16736\n",
            "Data columns (total 16 columns):\n",
            " #   Column              Non-Null Count  Dtype  \n",
            "---  ------              --------------  -----  \n",
            " 0   Loyalty Number      16737 non-null  int64  \n",
            " 1   Country             16737 non-null  object \n",
            " 2   Province            16737 non-null  object \n",
            " 3   City                16737 non-null  object \n",
            " 4   Postal Code         16737 non-null  object \n",
            " 5   Gender              16737 non-null  object \n",
            " 6   Education           16737 non-null  object \n",
            " 7   Salary              12499 non-null  float64\n",
            " 8   Marital Status      16737 non-null  object \n",
            " 9   Loyalty Card        16737 non-null  object \n",
            " 10  CLV                 16737 non-null  float64\n",
            " 11  Enrollment Type     16737 non-null  object \n",
            " 12  Enrollment Year     16737 non-null  int64  \n",
            " 13  Enrollment Month    16737 non-null  int64  \n",
            " 14  Cancellation Year   2067 non-null   Int64  \n",
            " 15  Cancellation Month  2067 non-null   Int64  \n",
            "dtypes: Int64(2), float64(2), int64(3), object(9)\n",
            "memory usage: 2.1+ MB\n"
          ]
        }
      ]
    },
    {
      "cell_type": "code",
      "source": [
        "cfa.info()"
      ],
      "metadata": {
        "colab": {
          "base_uri": "https://localhost:8080/",
          "height": 0
        },
        "id": "Jmhkws7ieL4s",
        "outputId": "dd9b6bb5-a6a5-49bc-e88c-5f25e7816a97"
      },
      "execution_count": 9,
      "outputs": [
        {
          "output_type": "stream",
          "name": "stdout",
          "text": [
            "<class 'pandas.core.frame.DataFrame'>\n",
            "RangeIndex: 99323 entries, 0 to 99322\n",
            "Data columns (total 8 columns):\n",
            " #   Column                       Non-Null Count  Dtype  \n",
            "---  ------                       --------------  -----  \n",
            " 0   Loyalty Number               99323 non-null  int64  \n",
            " 1   Year                         99323 non-null  int64  \n",
            " 2   Month                        99323 non-null  int64  \n",
            " 3   Total Flights                99322 non-null  float64\n",
            " 4   Distance                     99322 non-null  float64\n",
            " 5   Points Accumulated           99322 non-null  float64\n",
            " 6   Points Redeemed              99322 non-null  float64\n",
            " 7   Dollar Cost Points Redeemed  99322 non-null  float64\n",
            "dtypes: float64(5), int64(3)\n",
            "memory usage: 6.1 MB\n"
          ]
        }
      ]
    },
    {
      "cell_type": "code",
      "source": [
        "#count rows and columns\n",
        "clh.shape"
      ],
      "metadata": {
        "colab": {
          "base_uri": "https://localhost:8080/",
          "height": 0
        },
        "id": "ihGBFmo-hUbW",
        "outputId": "a90a9469-77e8-4ea7-e085-0d8c074b9df0"
      },
      "execution_count": 10,
      "outputs": [
        {
          "output_type": "execute_result",
          "data": {
            "text/plain": [
              "(16737, 16)"
            ]
          },
          "metadata": {},
          "execution_count": 10
        }
      ]
    },
    {
      "cell_type": "code",
      "source": [
        "#check for null values\n",
        "clh.isna().sum()"
      ],
      "metadata": {
        "colab": {
          "base_uri": "https://localhost:8080/",
          "height": 0
        },
        "id": "xMTkmAc7gqxS",
        "outputId": "4ab5d70a-718e-45aa-e2d3-f1dc8390cfd1"
      },
      "execution_count": 11,
      "outputs": [
        {
          "output_type": "execute_result",
          "data": {
            "text/plain": [
              "Loyalty Number            0\n",
              "Country                   0\n",
              "Province                  0\n",
              "City                      0\n",
              "Postal Code               0\n",
              "Gender                    0\n",
              "Education                 0\n",
              "Salary                 4238\n",
              "Marital Status            0\n",
              "Loyalty Card              0\n",
              "CLV                       0\n",
              "Enrollment Type           0\n",
              "Enrollment Year           0\n",
              "Enrollment Month          0\n",
              "Cancellation Year     14670\n",
              "Cancellation Month    14670\n",
              "dtype: int64"
            ]
          },
          "metadata": {},
          "execution_count": 11
        }
      ]
    },
    {
      "cell_type": "code",
      "source": [
        "#check for duplicated rows\n",
        "clh.duplicated().sum()"
      ],
      "metadata": {
        "colab": {
          "base_uri": "https://localhost:8080/",
          "height": 0
        },
        "id": "g8fI44rPiKWT",
        "outputId": "baba5d43-6a8e-4f71-98d2-37ab7750c0c6"
      },
      "execution_count": 12,
      "outputs": [
        {
          "output_type": "execute_result",
          "data": {
            "text/plain": [
              "0"
            ]
          },
          "metadata": {},
          "execution_count": 12
        }
      ]
    },
    {
      "cell_type": "markdown",
      "source": [
        "**(3) Analyze Yearly Prformance**"
      ],
      "metadata": {
        "id": "6rZjg9en6ldY"
      }
    },
    {
      "cell_type": "code",
      "source": [
        "### get the number of loyalty program members per year\n",
        "\n",
        "sum_e = clh.groupby('Enrollment Year')['Loyalty Number'].nunique()\n",
        "\n",
        "#plot in a graph\n",
        "plt.figure(figsize =(5,2))\n",
        "sum_e.plot(kind='line',color='violet')\n",
        "plt.xlabel(\"Year\")\n",
        "plt.ylabel(\"Total Members\")\n",
        "plt.title(\"Total Members per Year\")\n",
        "plt.show()\n",
        "\n",
        "sum_e"
      ],
      "metadata": {
        "id": "beXyk4A82dbL",
        "colab": {
          "base_uri": "https://localhost:8080/",
          "height": 412
        },
        "outputId": "11a8d240-43bd-4c5d-b1e3-e09908c711d9"
      },
      "execution_count": 118,
      "outputs": [
        {
          "output_type": "display_data",
          "data": {
            "text/plain": [
              "<Figure size 500x200 with 1 Axes>"
            ],
            "image/png": "[encoded data removed]"
          },
          "metadata": {}
        },
        {
          "output_type": "execute_result",
          "data": {
            "text/plain": [
              "Enrollment Year\n",
              "2012    1686\n",
              "2013    2397\n",
              "2014    2370\n",
              "2015    2331\n",
              "2016    2456\n",
              "2017    2487\n",
              "2018    3010\n",
              "Name: Loyalty Number, dtype: int64"
            ]
          },
          "metadata": {},
          "execution_count": 118
        }
      ]
    },
    {
      "cell_type": "markdown",
      "source": [
        "**Checking the graph, we can see that the number of Airline Loyalty Program members has increased in the year 2018**"
      ],
      "metadata": {
        "id": "_TX6tU1p7e8n"
      }
    },
    {
      "cell_type": "code",
      "source": [
        "### get the number of loyalty program members that cancelled per year\n",
        "sum_c = clh.groupby(\"Cancellation Year\")['Loyalty Number'].nunique()\n",
        "\n",
        "plt.figure(figsize=(5,2))\n",
        "sum_c.plot(kind='line',color='orange')\n",
        "plt.xlabel('Year')\n",
        "plt.ylabel('No of Cancellation')\n",
        "plt.title('Total Cancellations per Year')\n",
        "plt.show()\n",
        "sum_c"
      ],
      "metadata": {
        "colab": {
          "base_uri": "https://localhost:8080/",
          "height": 395
        },
        "id": "Yz8-YKUF68tX",
        "outputId": "80caf4c9-289c-42fd-d80c-14b166aeaec4"
      },
      "execution_count": 119,
      "outputs": [
        {
          "output_type": "display_data",
          "data": {
            "text/plain": [
              "<Figure size 500x200 with 1 Axes>"
            ],
            "image/png": "[encoded data removed]"
          },
          "metadata": {}
        },
        {
          "output_type": "execute_result",
          "data": {
            "text/plain": [
              "Cancellation Year\n",
              "2013     43\n",
              "2014    181\n",
              "2015    265\n",
              "2016    427\n",
              "2017    506\n",
              "2018    645\n",
              "Name: Loyalty Number, dtype: int64"
            ]
          },
          "metadata": {},
          "execution_count": 119
        }
      ]
    },
    {
      "cell_type": "markdown",
      "source": [
        "**Suprisingly, there is also an upward trend in the number of membership cancellations. Let's try to portray it in percentage.**"
      ],
      "metadata": {
        "id": "mmdOHAlK-sYq"
      }
    },
    {
      "cell_type": "code",
      "source": [
        "combined_totals = pd.concat([sum_e, sum_c], axis=1).fillna(0)\n",
        "combined_totals.columns = ['Enrollments', 'Cancellations']\n",
        "combined_totals['Total'] = combined_totals['Enrollments'] + combined_totals['Cancellations']\n",
        "\n",
        "combined_totals['Enrollment_Share'] = (combined_totals['Enrollments'] / combined_totals['Total']) * 100 #convert to percentage\n",
        "combined_totals['Enrollment_Share'] = combined_totals['Enrollment_Share'].round(2) #round off\n",
        "\n",
        "combined_totals['Cancellation_Share'] = (combined_totals['Cancellations'] / combined_totals['Total']) * 100 #convert to percentage\n",
        "combined_totals['Cancellation_Share'] = combined_totals['Cancellation_Share'].round(2) #round off\n",
        "\n",
        "combined_totals.reset_index(inplace=True)\n",
        "combined_totals.rename(columns={'index':'Year'},inplace=True)\n",
        "combined_totals"
      ],
      "metadata": {
        "colab": {
          "base_uri": "https://localhost:8080/",
          "height": 269
        },
        "id": "ZE52pDtE97nJ",
        "outputId": "4fcc2299-0399-4e45-d49f-bac954dd869b"
      },
      "execution_count": 39,
      "outputs": [
        {
          "output_type": "execute_result",
          "data": {
            "text/plain": [
              "   Year  Enrollments  Cancellations   Total  Enrollment_Share  \\\n",
              "0  2012         1686            0.0  1686.0            100.00   \n",
              "1  2013         2397           43.0  2440.0             98.24   \n",
              "2  2014         2370          181.0  2551.0             92.90   \n",
              "3  2015         2331          265.0  2596.0             89.79   \n",
              "4  2016         2456          427.0  2883.0             85.19   \n",
              "5  2017         2487          506.0  2993.0             83.09   \n",
              "6  2018         3010          645.0  3655.0             82.35   \n",
              "\n",
              "   Cancellation_Share  \n",
              "0                0.00  \n",
              "1                1.76  \n",
              "2                7.10  \n",
              "3               10.21  \n",
              "4               14.81  \n",
              "5               16.91  \n",
              "6               17.65  "
            ],
            "text/html": [
              "\n",
              "  <div id=\"df-dc04cb26-89ba-416e-a317-c5296a4a53a6\" class=\"colab-df-container\">\n",
              "    <div>\n",
              "<style scoped>\n",
              "    .dataframe tbody tr th:only-of-type {\n",
              "        vertical-align: middle;\n",
              "    }\n",
              "\n",
              "    .dataframe tbody tr th {\n",
              "        vertical-align: top;\n",
              "    }\n",
              "\n",
              "    .dataframe thead th {\n",
              "        text-align: right;\n",
              "    }\n",
              "</style>\n",
              "<table border=\"1\" class=\"dataframe\">\n",
              "  <thead>\n",
              "    <tr style=\"text-align: right;\">\n",
              "      <th></th>\n",
              "      <th>Year</th>\n",
              "      <th>Enrollments</th>\n",
              "      <th>Cancellations</th>\n",
              "      <th>Total</th>\n",
              "      <th>Enrollment_Share</th>\n",
              "      <th>Cancellation_Share</th>\n",
              "    </tr>\n",
              "  </thead>\n",
              "  <tbody>\n",
              "    <tr>\n",
              "      <th>0</th>\n",
              "      <td>2012</td>\n",
              "      <td>1686</td>\n",
              "      <td>0.0</td>\n",
              "      <td>1686.0</td>\n",
              "      <td>100.00</td>\n",
              "      <td>0.00</td>\n",
              "    </tr>\n",
              "    <tr>\n",
              "      <th>1</th>\n",
              "      <td>2013</td>\n",
              "      <td>2397</td>\n",
              "      <td>43.0</td>\n",
              "      <td>2440.0</td>\n",
              "      <td>98.24</td>\n",
              "      <td>1.76</td>\n",
              "    </tr>\n",
              "    <tr>\n",
              "      <th>2</th>\n",
              "      <td>2014</td>\n",
              "      <td>2370</td>\n",
              "      <td>181.0</td>\n",
              "      <td>2551.0</td>\n",
              "      <td>92.90</td>\n",
              "      <td>7.10</td>\n",
              "    </tr>\n",
              "    <tr>\n",
              "      <th>3</th>\n",
              "      <td>2015</td>\n",
              "      <td>2331</td>\n",
              "      <td>265.0</td>\n",
              "      <td>2596.0</td>\n",
              "      <td>89.79</td>\n",
              "      <td>10.21</td>\n",
              "    </tr>\n",
              "    <tr>\n",
              "      <th>4</th>\n",
              "      <td>2016</td>\n",
              "      <td>2456</td>\n",
              "      <td>427.0</td>\n",
              "      <td>2883.0</td>\n",
              "      <td>85.19</td>\n",
              "      <td>14.81</td>\n",
              "    </tr>\n",
              "    <tr>\n",
              "      <th>5</th>\n",
              "      <td>2017</td>\n",
              "      <td>2487</td>\n",
              "      <td>506.0</td>\n",
              "      <td>2993.0</td>\n",
              "      <td>83.09</td>\n",
              "      <td>16.91</td>\n",
              "    </tr>\n",
              "    <tr>\n",
              "      <th>6</th>\n",
              "      <td>2018</td>\n",
              "      <td>3010</td>\n",
              "      <td>645.0</td>\n",
              "      <td>3655.0</td>\n",
              "      <td>82.35</td>\n",
              "      <td>17.65</td>\n",
              "    </tr>\n",
              "  </tbody>\n",
              "</table>\n",
              "</div>\n",
              "    <div class=\"colab-df-buttons\">\n",
              "\n",
              "  <div class=\"colab-df-container\">\n",
              "    <button class=\"colab-df-convert\" onclick=\"convertToInteractive('df-dc04cb26-89ba-416e-a317-c5296a4a53a6')\"\n",
              "            title=\"Convert this dataframe to an interactive table.\"\n",
              "            style=\"display:none;\">\n",
              "\n",
              "  <svg xmlns=\"http://www.w3.org/2000/svg\" height=\"24px\" viewBox=\"0 -960 960 960\">\n",
              "    <path d=\"M120-120v-720h720v720H120Zm60-500h600v-160H180v160Zm220 220h160v-160H400v160Zm0 220h160v-160H400v160ZM180-400h160v-160H180v160Zm440 0h160v-160H620v160ZM180-180h160v-160H180v160Zm440 0h160v-160H620v160Z\"/>\n",
              "  </svg>\n",
              "    </button>\n",
              "\n",
              "  <style>\n",
              "    .colab-df-container {\n",
              "      display:flex;\n",
              "      gap: 12px;\n",
              "    }\n",
              "\n",
              "    .colab-df-convert {\n",
              "      background-color: #E8F0FE;\n",
              "      border: none;\n",
              "      border-radius: 50%;\n",
              "      cursor: pointer;\n",
              "      display: none;\n",
              "      fill: #1967D2;\n",
              "      height: 32px;\n",
              "      padding: 0 0 0 0;\n",
              "      width: 32px;\n",
              "    }\n",
              "\n",
              "    .colab-df-convert:hover {\n",
              "      background-color: #E2EBFA;\n",
              "      box-shadow: 0px 1px 2px rgba(60, 64, 67, 0.3), 0px 1px 3px 1px rgba(60, 64, 67, 0.15);\n",
              "      fill: #174EA6;\n",
              "    }\n",
              "\n",
              "    .colab-df-buttons div {\n",
              "      margin-bottom: 4px;\n",
              "    }\n",
              "\n",
              "    [theme=dark] .colab-df-convert {\n",
              "      background-color: #3B4455;\n",
              "      fill: #D2E3FC;\n",
              "    }\n",
              "\n",
              "    [theme=dark] .colab-df-convert:hover {\n",
              "      background-color: #434B5C;\n",
              "      box-shadow: 0px 1px 3px 1px rgba(0, 0, 0, 0.15);\n",
              "      filter: drop-shadow(0px 1px 2px rgba(0, 0, 0, 0.3));\n",
              "      fill: #FFFFFF;\n",
              "    }\n",
              "  </style>\n",
              "\n",
              "    <script>\n",
              "      const buttonEl =\n",
              "        document.querySelector('#df-dc04cb26-89ba-416e-a317-c5296a4a53a6 button.colab-df-convert');\n",
              "      buttonEl.style.display =\n",
              "        google.colab.kernel.accessAllowed ? 'block' : 'none';\n",
              "\n",
              "      async function convertToInteractive(key) {\n",
              "        const element = document.querySelector('#df-dc04cb26-89ba-416e-a317-c5296a4a53a6');\n",
              "        const dataTable =\n",
              "          await google.colab.kernel.invokeFunction('convertToInteractive',\n",
              "                                                    [key], {});\n",
              "        if (!dataTable) return;\n",
              "\n",
              "        const docLinkHtml = 'Like what you see? Visit the ' +\n",
              "          '<a target=\"_blank\" href=https://colab.research.google.com/notebooks/data_table.ipynb>data table notebook</a>'\n",
              "          + ' to learn more about interactive tables.';\n",
              "        element.innerHTML = '';\n",
              "        dataTable['output_type'] = 'display_data';\n",
              "        await google.colab.output.renderOutput(dataTable, element);\n",
              "        const docLink = document.createElement('div');\n",
              "        docLink.innerHTML = docLinkHtml;\n",
              "        element.appendChild(docLink);\n",
              "      }\n",
              "    </script>\n",
              "  </div>\n",
              "\n",
              "\n",
              "<div id=\"df-6e676127-4ac4-4995-a6a4-b669dd0c62e8\">\n",
              "  <button class=\"colab-df-quickchart\" onclick=\"quickchart('df-6e676127-4ac4-4995-a6a4-b669dd0c62e8')\"\n",
              "            title=\"Suggest charts\"\n",
              "            style=\"display:none;\">\n",
              "\n",
              "<svg xmlns=\"http://www.w3.org/2000/svg\" height=\"24px\"viewBox=\"0 0 24 24\"\n",
              "     width=\"24px\">\n",
              "    <g>\n",
              "        <path d=\"M19 3H5c-1.1 0-2 .9-2 2v14c0 1.1.9 2 2 2h14c1.1 0 2-.9 2-2V5c0-1.1-.9-2-2-2zM9 17H7v-7h2v7zm4 0h-2V7h2v10zm4 0h-2v-4h2v4z\"/>\n",
              "    </g>\n",
              "</svg>\n",
              "  </button>\n",
              "\n",
              "<style>\n",
              "  .colab-df-quickchart {\n",
              "      --bg-color: #E8F0FE;\n",
              "      --fill-color: #1967D2;\n",
              "      --hover-bg-color: #E2EBFA;\n",
              "      --hover-fill-color: #174EA6;\n",
              "      --disabled-fill-color: #AAA;\n",
              "      --disabled-bg-color: #DDD;\n",
              "  }\n",
              "\n",
              "  [theme=dark] .colab-df-quickchart {\n",
              "      --bg-color: #3B4455;\n",
              "      --fill-color: #D2E3FC;\n",
              "      --hover-bg-color: #434B5C;\n",
              "      --hover-fill-color: #FFFFFF;\n",
              "      --disabled-bg-color: #3B4455;\n",
              "      --disabled-fill-color: #666;\n",
              "  }\n",
              "\n",
              "  .colab-df-quickchart {\n",
              "    background-color: var(--bg-color);\n",
              "    border: none;\n",
              "    border-radius: 50%;\n",
              "    cursor: pointer;\n",
              "    display: none;\n",
              "    fill: var(--fill-color);\n",
              "    height: 32px;\n",
              "    padding: 0;\n",
              "    width: 32px;\n",
              "  }\n",
              "\n",
              "  .colab-df-quickchart:hover {\n",
              "    background-color: var(--hover-bg-color);\n",
              "    box-shadow: 0 1px 2px rgba(60, 64, 67, 0.3), 0 1px 3px 1px rgba(60, 64, 67, 0.15);\n",
              "    fill: var(--button-hover-fill-color);\n",
              "  }\n",
              "\n",
              "  .colab-df-quickchart-complete:disabled,\n",
              "  .colab-df-quickchart-complete:disabled:hover {\n",
              "    background-color: var(--disabled-bg-color);\n",
              "    fill: var(--disabled-fill-color);\n",
              "    box-shadow: none;\n",
              "  }\n",
              "\n",
              "  .colab-df-spinner {\n",
              "    border: 2px solid var(--fill-color);\n",
              "    border-color: transparent;\n",
              "    border-bottom-color: var(--fill-color);\n",
              "    animation:\n",
              "      spin 1s steps(1) infinite;\n",
              "  }\n",
              "\n",
              "  @keyframes spin {\n",
              "    0% {\n",
              "      border-color: transparent;\n",
              "      border-bottom-color: var(--fill-color);\n",
              "      border-left-color: var(--fill-color);\n",
              "    }\n",
              "    20% {\n",
              "      border-color: transparent;\n",
              "      border-left-color: var(--fill-color);\n",
              "      border-top-color: var(--fill-color);\n",
              "    }\n",
              "    30% {\n",
              "      border-color: transparent;\n",
              "      border-left-color: var(--fill-color);\n",
              "      border-top-color: var(--fill-color);\n",
              "      border-right-color: var(--fill-color);\n",
              "    }\n",
              "    40% {\n",
              "      border-color: transparent;\n",
              "      border-right-color: var(--fill-color);\n",
              "      border-top-color: var(--fill-color);\n",
              "    }\n",
              "    60% {\n",
              "      border-color: transparent;\n",
              "      border-right-color: var(--fill-color);\n",
              "    }\n",
              "    80% {\n",
              "      border-color: transparent;\n",
              "      border-right-color: var(--fill-color);\n",
              "      border-bottom-color: var(--fill-color);\n",
              "    }\n",
              "    90% {\n",
              "      border-color: transparent;\n",
              "      border-bottom-color: var(--fill-color);\n",
              "    }\n",
              "  }\n",
              "</style>\n",
              "\n",
              "  <script>\n",
              "    async function quickchart(key) {\n",
              "      const quickchartButtonEl =\n",
              "        document.querySelector('#' + key + ' button');\n",
              "      quickchartButtonEl.disabled = true;  // To prevent multiple clicks.\n",
              "      quickchartButtonEl.classList.add('colab-df-spinner');\n",
              "      try {\n",
              "        const charts = await google.colab.kernel.invokeFunction(\n",
              "            'suggestCharts', [key], {});\n",
              "      } catch (error) {\n",
              "        console.error('Error during call to suggestCharts:', error);\n",
              "      }\n",
              "      quickchartButtonEl.classList.remove('colab-df-spinner');\n",
              "      quickchartButtonEl.classList.add('colab-df-quickchart-complete');\n",
              "    }\n",
              "    (() => {\n",
              "      let quickchartButtonEl =\n",
              "        document.querySelector('#df-6e676127-4ac4-4995-a6a4-b669dd0c62e8 button');\n",
              "      quickchartButtonEl.style.display =\n",
              "        google.colab.kernel.accessAllowed ? 'block' : 'none';\n",
              "    })();\n",
              "  </script>\n",
              "</div>\n",
              "    </div>\n",
              "  </div>\n"
            ],
            "application/vnd.google.colaboratory.intrinsic+json": {
              "type": "dataframe",
              "variable_name": "combined_totals",
              "summary": "{\n  \"name\": \"combined_totals\",\n  \"rows\": 7,\n  \"fields\": [\n    {\n      \"column\": \"Year\",\n      \"properties\": {\n        \"dtype\": \"Int64\",\n        \"samples\": [\n          \"2012\",\n          \"2013\",\n          \"2017\"\n        ],\n        \"num_unique_values\": 7,\n        \"semantic_type\": \"\",\n        \"description\": \"\"\n      }\n    },\n    {\n      \"column\": \"Enrollments\",\n      \"properties\": {\n        \"dtype\": \"number\",\n        \"std\": 386,\n        \"min\": 1686,\n        \"max\": 3010,\n        \"samples\": [\n          1686,\n          2397,\n          2487\n        ],\n        \"num_unique_values\": 7,\n        \"semantic_type\": \"\",\n        \"description\": \"\"\n      }\n    },\n    {\n      \"column\": \"Cancellations\",\n      \"properties\": {\n        \"dtype\": \"number\",\n        \"std\": 241.13254604450384,\n        \"min\": 0.0,\n        \"max\": 645.0,\n        \"samples\": [\n          0.0,\n          43.0,\n          506.0\n        ],\n        \"num_unique_values\": 7,\n        \"semantic_type\": \"\",\n        \"description\": \"\"\n      }\n    },\n    {\n      \"column\": \"Total\",\n      \"properties\": {\n        \"dtype\": \"number\",\n        \"std\": 599.8415663839118,\n        \"min\": 1686.0,\n        \"max\": 3655.0,\n        \"samples\": [\n          1686.0,\n          2440.0,\n          2993.0\n        ],\n        \"num_unique_values\": 7,\n        \"semantic_type\": \"\",\n        \"description\": \"\"\n      }\n    },\n    {\n      \"column\": \"Enrollment_Share\",\n      \"properties\": {\n        \"dtype\": \"number\",\n        \"std\": 7.134549073080265,\n        \"min\": 82.35,\n        \"max\": 100.0,\n        \"samples\": [\n          100.0,\n          98.24,\n          83.09\n        ],\n        \"num_unique_values\": 7,\n        \"semantic_type\": \"\",\n        \"description\": \"\"\n      }\n    },\n    {\n      \"column\": \"Cancellation_Share\",\n      \"properties\": {\n        \"dtype\": \"number\",\n        \"std\": 7.134549073080265,\n        \"min\": 0.0,\n        \"max\": 17.65,\n        \"samples\": [\n          0.0,\n          1.76,\n          16.91\n        ],\n        \"num_unique_values\": 7,\n        \"semantic_type\": \"\",\n        \"description\": \"\"\n      }\n    }\n  ]\n}"
            }
          },
          "metadata": {},
          "execution_count": 39
        }
      ]
    },
    {
      "cell_type": "code",
      "source": [
        "### get the number of loyalty program members that cancelled per year\n",
        "\n",
        "plt.figure(figsize=(5,2))\n",
        "plt.plot(combined_totals['Year'],combined_totals['Cancellation_Share'])\n",
        "plt.xlabel('Year')\n",
        "plt.ylabel('No of Cancellation')\n",
        "plt.title('Total Cancellations per Year')\n",
        "plt.show()\n"
      ],
      "metadata": {
        "colab": {
          "base_uri": "https://localhost:8080/",
          "height": 256
        },
        "id": "KU_IRbiaAqiZ",
        "outputId": "8ad7e0e5-c0d7-4fea-8dc4-19a38fbf8d35"
      },
      "execution_count": 120,
      "outputs": [
        {
          "output_type": "display_data",
          "data": {
            "text/plain": [
              "<Figure size 500x200 with 1 Axes>"
            ],
            "image/png": "[encoded data removed]"
          },
          "metadata": {}
        }
      ]
    },
    {
      "cell_type": "markdown",
      "source": [
        "**Here, we're able to verify that the percentage of cancellations have increased and occured the most in 2018.**"
      ],
      "metadata": {
        "id": "wErQ8_jgCSj7"
      }
    },
    {
      "cell_type": "markdown",
      "source": [
        "**Let us the history of enrollees in past months each year.**"
      ],
      "metadata": {
        "id": "EfqRw6PzDXXr"
      }
    },
    {
      "cell_type": "code",
      "source": [
        "sum_e_m = clh.groupby(['Enrollment Year','Enrollment Month'])['Loyalty Number'].nunique()\n",
        "\n",
        "plt.figure(figsize=(15,2))\n",
        "sum_e_m.plot(kind='bar',color='violet')\n",
        "plt.xlabel(\"Year Month\")\n",
        "plt.ylabel(\"Total Members\")\n",
        "plt.title(\"Total Members per Year\")\n",
        "plt.show()"
      ],
      "metadata": {
        "colab": {
          "base_uri": "https://localhost:8080/",
          "height": 315
        },
        "id": "UvziY1FKDhWf",
        "outputId": "9b7ee7c5-9bbe-4a8a-9c4d-4ec9ca6fc5b1"
      },
      "execution_count": 122,
      "outputs": [
        {
          "output_type": "display_data",
          "data": {
            "text/plain": [
              "<Figure size 1500x200 with 1 Axes>"
            ],
            "image/png": "[encoded data removed]"
          },
          "metadata": {}
        }
      ]
    },
    {
      "cell_type": "markdown",
      "source": [
        "**Here, we can see that in 2018 of Feb, March and April there is a huge number of new enrollees versus the previous years of the same month.**"
      ],
      "metadata": {
        "id": "OwpnnGudEgDH"
      }
    },
    {
      "cell_type": "markdown",
      "source": [
        "Let's check the total flights accumulated per month year"
      ],
      "metadata": {
        "id": "zEGByLJjKn7M"
      }
    },
    {
      "cell_type": "code",
      "source": [
        "sum_tf = cfa.groupby(['Year', 'Month'])['Total Flights'].sum()\n",
        "\n",
        "plt.figure(figsize=(15,2))\n",
        "sum_tf.plot(kind='line',color='violet')\n",
        "plt.xlabel(\"Date\")\n",
        "plt.ylabel(\"Total Flights\")\n",
        "plt.title(\"Total Flights per Year\")\n",
        "plt.show()\n",
        "sum_tf"
      ],
      "metadata": {
        "colab": {
          "base_uri": "https://localhost:8080/",
          "height": 707
        },
        "id": "gKEfKr7jKvga",
        "outputId": "8446e88d-36c1-421d-c8da-5a2e536259ff"
      },
      "execution_count": 123,
      "outputs": [
        {
          "output_type": "display_data",
          "data": {
            "text/plain": [
              "<Figure size 1500x200 with 1 Axes>"
            ],
            "image/png": "[encoded data removed]"
          },
          "metadata": {}
        },
        {
          "output_type": "execute_result",
          "data": {
            "text/plain": [
              "Year  Month\n",
              "2017  1        10666.0\n",
              "      2        10873.0\n",
              "      3        16449.0\n",
              "      4        13331.0\n",
              "      5        16598.0\n",
              "      6        19953.0\n",
              "      7        22675.0\n",
              "      8        19326.0\n",
              "      9        12442.0\n",
              "      10       10624.0\n",
              "      11       10235.0\n",
              "      12       17533.0\n",
              "2018  1         5913.0\n",
              "      2         5924.0\n",
              "      3        13369.0\n",
              "      4         9076.0\n",
              "      5        17333.0\n",
              "      6        23916.0\n",
              "      7        27521.0\n",
              "      8        23023.0\n",
              "      9        14481.0\n",
              "      10       12148.0\n",
              "      11       11827.0\n",
              "      12       20322.0\n",
              "Name: Total Flights, dtype: float64"
            ]
          },
          "metadata": {},
          "execution_count": 123
        }
      ]
    },
    {
      "cell_type": "markdown",
      "source": [
        "**We can see that there is a slight dip in total flights in the month of Jan and Feb 2018**"
      ],
      "metadata": {
        "id": "iT0QjF3lLCrz"
      }
    },
    {
      "cell_type": "markdown",
      "source": [
        "Let us also check the total flights accumulated per Enrollment period"
      ],
      "metadata": {
        "id": "dFtFfoxfKRuc"
      }
    },
    {
      "cell_type": "code",
      "source": [
        "#first merge the 2 data set\n",
        "merge_df = pd.merge(cfa,clh, on = 'Loyalty Number')\n",
        "merge_df.head()\n"
      ],
      "metadata": {
        "colab": {
          "base_uri": "https://localhost:8080/",
          "height": 394
        },
        "id": "-orjfjfoKb_t",
        "outputId": "b07a51e8-95c1-46c2-a519-6161a7c99d5d"
      },
      "execution_count": 89,
      "outputs": [
        {
          "output_type": "execute_result",
          "data": {
            "text/plain": [
              "   Loyalty Number  Year  Month  Total Flights  Distance  Points Accumulated  \\\n",
              "0          100590  2018      6           12.0   15276.0             22914.0   \n",
              "1          100590  2018      7           12.0    9168.0             13752.0   \n",
              "2          100590  2018      5            4.0    6504.0              9756.0   \n",
              "3          100590  2018     10            0.0       0.0                 0.0   \n",
              "4          100590  2018      2            0.0       0.0                 0.0   \n",
              "\n",
              "   Points Redeemed  Dollar Cost Points Redeemed Country          Province  \\\n",
              "0              0.0                          0.0  Canada  British Columbia   \n",
              "1              0.0                          0.0  Canada  British Columbia   \n",
              "2              0.0                          0.0  Canada  British Columbia   \n",
              "3            512.0                         92.0  Canada  British Columbia   \n",
              "4              0.0                          0.0  Canada  British Columbia   \n",
              "\n",
              "   ... Education   Salary Marital Status Loyalty Card       CLV  \\\n",
              "0  ...  Bachelor  69841.0        Married         Star  34090.04   \n",
              "1  ...  Bachelor  69841.0        Married         Star  34090.04   \n",
              "2  ...  Bachelor  69841.0        Married         Star  34090.04   \n",
              "3  ...  Bachelor  69841.0        Married         Star  34090.04   \n",
              "4  ...  Bachelor  69841.0        Married         Star  34090.04   \n",
              "\n",
              "  Enrollment Type Enrollment Year  Enrollment Month Cancellation Year  \\\n",
              "0  2018 Promotion            2018                 3              <NA>   \n",
              "1  2018 Promotion            2018                 3              <NA>   \n",
              "2  2018 Promotion            2018                 3              <NA>   \n",
              "3  2018 Promotion            2018                 3              <NA>   \n",
              "4  2018 Promotion            2018                 3              <NA>   \n",
              "\n",
              "   Cancellation Month  \n",
              "0                <NA>  \n",
              "1                <NA>  \n",
              "2                <NA>  \n",
              "3                <NA>  \n",
              "4                <NA>  \n",
              "\n",
              "[5 rows x 23 columns]"
            ],
            "text/html": [
              "\n",
              "  <div id=\"df-f5956670-af29-4e3d-9a5e-9ad4a3d560ea\" class=\"colab-df-container\">\n",
              "    <div>\n",
              "<style scoped>\n",
              "    .dataframe tbody tr th:only-of-type {\n",
              "        vertical-align: middle;\n",
              "    }\n",
              "\n",
              "    .dataframe tbody tr th {\n",
              "        vertical-align: top;\n",
              "    }\n",
              "\n",
              "    .dataframe thead th {\n",
              "        text-align: right;\n",
              "    }\n",
              "</style>\n",
              "<table border=\"1\" class=\"dataframe\">\n",
              "  <thead>\n",
              "    <tr style=\"text-align: right;\">\n",
              "      <th></th>\n",
              "      <th>Loyalty Number</th>\n",
              "      <th>Year</th>\n",
              "      <th>Month</th>\n",
              "      <th>Total Flights</th>\n",
              "      <th>Distance</th>\n",
              "      <th>Points Accumulated</th>\n",
              "      <th>Points Redeemed</th>\n",
              "      <th>Dollar Cost Points Redeemed</th>\n",
              "      <th>Country</th>\n",
              "      <th>Province</th>\n",
              "      <th>...</th>\n",
              "      <th>Education</th>\n",
              "      <th>Salary</th>\n",
              "      <th>Marital Status</th>\n",
              "      <th>Loyalty Card</th>\n",
              "      <th>CLV</th>\n",
              "      <th>Enrollment Type</th>\n",
              "      <th>Enrollment Year</th>\n",
              "      <th>Enrollment Month</th>\n",
              "      <th>Cancellation Year</th>\n",
              "      <th>Cancellation Month</th>\n",
              "    </tr>\n",
              "  </thead>\n",
              "  <tbody>\n",
              "    <tr>\n",
              "      <th>0</th>\n",
              "      <td>100590</td>\n",
              "      <td>2018</td>\n",
              "      <td>6</td>\n",
              "      <td>12.0</td>\n",
              "      <td>15276.0</td>\n",
              "      <td>22914.0</td>\n",
              "      <td>0.0</td>\n",
              "      <td>0.0</td>\n",
              "      <td>Canada</td>\n",
              "      <td>British Columbia</td>\n",
              "      <td>...</td>\n",
              "      <td>Bachelor</td>\n",
              "      <td>69841.0</td>\n",
              "      <td>Married</td>\n",
              "      <td>Star</td>\n",
              "      <td>34090.04</td>\n",
              "      <td>2018 Promotion</td>\n",
              "      <td>2018</td>\n",
              "      <td>3</td>\n",
              "      <td>&lt;NA&gt;</td>\n",
              "      <td>&lt;NA&gt;</td>\n",
              "    </tr>\n",
              "    <tr>\n",
              "      <th>1</th>\n",
              "      <td>100590</td>\n",
              "      <td>2018</td>\n",
              "      <td>7</td>\n",
              "      <td>12.0</td>\n",
              "      <td>9168.0</td>\n",
              "      <td>13752.0</td>\n",
              "      <td>0.0</td>\n",
              "      <td>0.0</td>\n",
              "      <td>Canada</td>\n",
              "      <td>British Columbia</td>\n",
              "      <td>...</td>\n",
              "      <td>Bachelor</td>\n",
              "      <td>69841.0</td>\n",
              "      <td>Married</td>\n",
              "      <td>Star</td>\n",
              "      <td>34090.04</td>\n",
              "      <td>2018 Promotion</td>\n",
              "      <td>2018</td>\n",
              "      <td>3</td>\n",
              "      <td>&lt;NA&gt;</td>\n",
              "      <td>&lt;NA&gt;</td>\n",
              "    </tr>\n",
              "    <tr>\n",
              "      <th>2</th>\n",
              "      <td>100590</td>\n",
              "      <td>2018</td>\n",
              "      <td>5</td>\n",
              "      <td>4.0</td>\n",
              "      <td>6504.0</td>\n",
              "      <td>9756.0</td>\n",
              "      <td>0.0</td>\n",
              "      <td>0.0</td>\n",
              "      <td>Canada</td>\n",
              "      <td>British Columbia</td>\n",
              "      <td>...</td>\n",
              "      <td>Bachelor</td>\n",
              "      <td>69841.0</td>\n",
              "      <td>Married</td>\n",
              "      <td>Star</td>\n",
              "      <td>34090.04</td>\n",
              "      <td>2018 Promotion</td>\n",
              "      <td>2018</td>\n",
              "      <td>3</td>\n",
              "      <td>&lt;NA&gt;</td>\n",
              "      <td>&lt;NA&gt;</td>\n",
              "    </tr>\n",
              "    <tr>\n",
              "      <th>3</th>\n",
              "      <td>100590</td>\n",
              "      <td>2018</td>\n",
              "      <td>10</td>\n",
              "      <td>0.0</td>\n",
              "      <td>0.0</td>\n",
              "      <td>0.0</td>\n",
              "      <td>512.0</td>\n",
              "      <td>92.0</td>\n",
              "      <td>Canada</td>\n",
              "      <td>British Columbia</td>\n",
              "      <td>...</td>\n",
              "      <td>Bachelor</td>\n",
              "      <td>69841.0</td>\n",
              "      <td>Married</td>\n",
              "      <td>Star</td>\n",
              "      <td>34090.04</td>\n",
              "      <td>2018 Promotion</td>\n",
              "      <td>2018</td>\n",
              "      <td>3</td>\n",
              "      <td>&lt;NA&gt;</td>\n",
              "      <td>&lt;NA&gt;</td>\n",
              "    </tr>\n",
              "    <tr>\n",
              "      <th>4</th>\n",
              "      <td>100590</td>\n",
              "      <td>2018</td>\n",
              "      <td>2</td>\n",
              "      <td>0.0</td>\n",
              "      <td>0.0</td>\n",
              "      <td>0.0</td>\n",
              "      <td>0.0</td>\n",
              "      <td>0.0</td>\n",
              "      <td>Canada</td>\n",
              "      <td>British Columbia</td>\n",
              "      <td>...</td>\n",
              "      <td>Bachelor</td>\n",
              "      <td>69841.0</td>\n",
              "      <td>Married</td>\n",
              "      <td>Star</td>\n",
              "      <td>34090.04</td>\n",
              "      <td>2018 Promotion</td>\n",
              "      <td>2018</td>\n",
              "      <td>3</td>\n",
              "      <td>&lt;NA&gt;</td>\n",
              "      <td>&lt;NA&gt;</td>\n",
              "    </tr>\n",
              "  </tbody>\n",
              "</table>\n",
              "<p>5 rows × 23 columns</p>\n",
              "</div>\n",
              "    <div class=\"colab-df-buttons\">\n",
              "\n",
              "  <div class=\"colab-df-container\">\n",
              "    <button class=\"colab-df-convert\" onclick=\"convertToInteractive('df-f5956670-af29-4e3d-9a5e-9ad4a3d560ea')\"\n",
              "            title=\"Convert this dataframe to an interactive table.\"\n",
              "            style=\"display:none;\">\n",
              "\n",
              "  <svg xmlns=\"http://www.w3.org/2000/svg\" height=\"24px\" viewBox=\"0 -960 960 960\">\n",
              "    <path d=\"M120-120v-720h720v720H120Zm60-500h600v-160H180v160Zm220 220h160v-160H400v160Zm0 220h160v-160H400v160ZM180-400h160v-160H180v160Zm440 0h160v-160H620v160ZM180-180h160v-160H180v160Zm440 0h160v-160H620v160Z\"/>\n",
              "  </svg>\n",
              "    </button>\n",
              "\n",
              "  <style>\n",
              "    .colab-df-container {\n",
              "      display:flex;\n",
              "      gap: 12px;\n",
              "    }\n",
              "\n",
              "    .colab-df-convert {\n",
              "      background-color: #E8F0FE;\n",
              "      border: none;\n",
              "      border-radius: 50%;\n",
              "      cursor: pointer;\n",
              "      display: none;\n",
              "      fill: #1967D2;\n",
              "      height: 32px;\n",
              "      padding: 0 0 0 0;\n",
              "      width: 32px;\n",
              "    }\n",
              "\n",
              "    .colab-df-convert:hover {\n",
              "      background-color: #E2EBFA;\n",
              "      box-shadow: 0px 1px 2px rgba(60, 64, 67, 0.3), 0px 1px 3px 1px rgba(60, 64, 67, 0.15);\n",
              "      fill: #174EA6;\n",
              "    }\n",
              "\n",
              "    .colab-df-buttons div {\n",
              "      margin-bottom: 4px;\n",
              "    }\n",
              "\n",
              "    [theme=dark] .colab-df-convert {\n",
              "      background-color: #3B4455;\n",
              "      fill: #D2E3FC;\n",
              "    }\n",
              "\n",
              "    [theme=dark] .colab-df-convert:hover {\n",
              "      background-color: #434B5C;\n",
              "      box-shadow: 0px 1px 3px 1px rgba(0, 0, 0, 0.15);\n",
              "      filter: drop-shadow(0px 1px 2px rgba(0, 0, 0, 0.3));\n",
              "      fill: #FFFFFF;\n",
              "    }\n",
              "  </style>\n",
              "\n",
              "    <script>\n",
              "      const buttonEl =\n",
              "        document.querySelector('#df-f5956670-af29-4e3d-9a5e-9ad4a3d560ea button.colab-df-convert');\n",
              "      buttonEl.style.display =\n",
              "        google.colab.kernel.accessAllowed ? 'block' : 'none';\n",
              "\n",
              "      async function convertToInteractive(key) {\n",
              "        const element = document.querySelector('#df-f5956670-af29-4e3d-9a5e-9ad4a3d560ea');\n",
              "        const dataTable =\n",
              "          await google.colab.kernel.invokeFunction('convertToInteractive',\n",
              "                                                    [key], {});\n",
              "        if (!dataTable) return;\n",
              "\n",
              "        const docLinkHtml = 'Like what you see? Visit the ' +\n",
              "          '<a target=\"_blank\" href=https://colab.research.google.com/notebooks/data_table.ipynb>data table notebook</a>'\n",
              "          + ' to learn more about interactive tables.';\n",
              "        element.innerHTML = '';\n",
              "        dataTable['output_type'] = 'display_data';\n",
              "        await google.colab.output.renderOutput(dataTable, element);\n",
              "        const docLink = document.createElement('div');\n",
              "        docLink.innerHTML = docLinkHtml;\n",
              "        element.appendChild(docLink);\n",
              "      }\n",
              "    </script>\n",
              "  </div>\n",
              "\n",
              "\n",
              "<div id=\"df-d6d0c17e-975c-4ffc-a3f0-d6dcbf71459c\">\n",
              "  <button class=\"colab-df-quickchart\" onclick=\"quickchart('df-d6d0c17e-975c-4ffc-a3f0-d6dcbf71459c')\"\n",
              "            title=\"Suggest charts\"\n",
              "            style=\"display:none;\">\n",
              "\n",
              "<svg xmlns=\"http://www.w3.org/2000/svg\" height=\"24px\"viewBox=\"0 0 24 24\"\n",
              "     width=\"24px\">\n",
              "    <g>\n",
              "        <path d=\"M19 3H5c-1.1 0-2 .9-2 2v14c0 1.1.9 2 2 2h14c1.1 0 2-.9 2-2V5c0-1.1-.9-2-2-2zM9 17H7v-7h2v7zm4 0h-2V7h2v10zm4 0h-2v-4h2v4z\"/>\n",
              "    </g>\n",
              "</svg>\n",
              "  </button>\n",
              "\n",
              "<style>\n",
              "  .colab-df-quickchart {\n",
              "      --bg-color: #E8F0FE;\n",
              "      --fill-color: #1967D2;\n",
              "      --hover-bg-color: #E2EBFA;\n",
              "      --hover-fill-color: #174EA6;\n",
              "      --disabled-fill-color: #AAA;\n",
              "      --disabled-bg-color: #DDD;\n",
              "  }\n",
              "\n",
              "  [theme=dark] .colab-df-quickchart {\n",
              "      --bg-color: #3B4455;\n",
              "      --fill-color: #D2E3FC;\n",
              "      --hover-bg-color: #434B5C;\n",
              "      --hover-fill-color: #FFFFFF;\n",
              "      --disabled-bg-color: #3B4455;\n",
              "      --disabled-fill-color: #666;\n",
              "  }\n",
              "\n",
              "  .colab-df-quickchart {\n",
              "    background-color: var(--bg-color);\n",
              "    border: none;\n",
              "    border-radius: 50%;\n",
              "    cursor: pointer;\n",
              "    display: none;\n",
              "    fill: var(--fill-color);\n",
              "    height: 32px;\n",
              "    padding: 0;\n",
              "    width: 32px;\n",
              "  }\n",
              "\n",
              "  .colab-df-quickchart:hover {\n",
              "    background-color: var(--hover-bg-color);\n",
              "    box-shadow: 0 1px 2px rgba(60, 64, 67, 0.3), 0 1px 3px 1px rgba(60, 64, 67, 0.15);\n",
              "    fill: var(--button-hover-fill-color);\n",
              "  }\n",
              "\n",
              "  .colab-df-quickchart-complete:disabled,\n",
              "  .colab-df-quickchart-complete:disabled:hover {\n",
              "    background-color: var(--disabled-bg-color);\n",
              "    fill: var(--disabled-fill-color);\n",
              "    box-shadow: none;\n",
              "  }\n",
              "\n",
              "  .colab-df-spinner {\n",
              "    border: 2px solid var(--fill-color);\n",
              "    border-color: transparent;\n",
              "    border-bottom-color: var(--fill-color);\n",
              "    animation:\n",
              "      spin 1s steps(1) infinite;\n",
              "  }\n",
              "\n",
              "  @keyframes spin {\n",
              "    0% {\n",
              "      border-color: transparent;\n",
              "      border-bottom-color: var(--fill-color);\n",
              "      border-left-color: var(--fill-color);\n",
              "    }\n",
              "    20% {\n",
              "      border-color: transparent;\n",
              "      border-left-color: var(--fill-color);\n",
              "      border-top-color: var(--fill-color);\n",
              "    }\n",
              "    30% {\n",
              "      border-color: transparent;\n",
              "      border-left-color: var(--fill-color);\n",
              "      border-top-color: var(--fill-color);\n",
              "      border-right-color: var(--fill-color);\n",
              "    }\n",
              "    40% {\n",
              "      border-color: transparent;\n",
              "      border-right-color: var(--fill-color);\n",
              "      border-top-color: var(--fill-color);\n",
              "    }\n",
              "    60% {\n",
              "      border-color: transparent;\n",
              "      border-right-color: var(--fill-color);\n",
              "    }\n",
              "    80% {\n",
              "      border-color: transparent;\n",
              "      border-right-color: var(--fill-color);\n",
              "      border-bottom-color: var(--fill-color);\n",
              "    }\n",
              "    90% {\n",
              "      border-color: transparent;\n",
              "      border-bottom-color: var(--fill-color);\n",
              "    }\n",
              "  }\n",
              "</style>\n",
              "\n",
              "  <script>\n",
              "    async function quickchart(key) {\n",
              "      const quickchartButtonEl =\n",
              "        document.querySelector('#' + key + ' button');\n",
              "      quickchartButtonEl.disabled = true;  // To prevent multiple clicks.\n",
              "      quickchartButtonEl.classList.add('colab-df-spinner');\n",
              "      try {\n",
              "        const charts = await google.colab.kernel.invokeFunction(\n",
              "            'suggestCharts', [key], {});\n",
              "      } catch (error) {\n",
              "        console.error('Error during call to suggestCharts:', error);\n",
              "      }\n",
              "      quickchartButtonEl.classList.remove('colab-df-spinner');\n",
              "      quickchartButtonEl.classList.add('colab-df-quickchart-complete');\n",
              "    }\n",
              "    (() => {\n",
              "      let quickchartButtonEl =\n",
              "        document.querySelector('#df-d6d0c17e-975c-4ffc-a3f0-d6dcbf71459c button');\n",
              "      quickchartButtonEl.style.display =\n",
              "        google.colab.kernel.accessAllowed ? 'block' : 'none';\n",
              "    })();\n",
              "  </script>\n",
              "</div>\n",
              "    </div>\n",
              "  </div>\n"
            ],
            "application/vnd.google.colaboratory.intrinsic+json": {
              "type": "dataframe",
              "variable_name": "merge_df"
            }
          },
          "metadata": {},
          "execution_count": 89
        }
      ]
    },
    {
      "cell_type": "code",
      "source": [
        "sum_tf_merge = merge_df.groupby(['Enrollment Year','Enrollment Month'])['Total Flights'].sum()\n",
        "\n",
        "plt.figure(figsize=(15,2))\n",
        "sum_tf_merge.plot(kind='bar',color='violet')\n",
        "plt.xlabel(\"Year Month\")\n",
        "plt.ylabel(\"Total Flights\")\n",
        "plt.title(\"Total Flights based on Enrollment Period\")\n",
        "plt.show()"
      ],
      "metadata": {
        "colab": {
          "base_uri": "https://localhost:8080/",
          "height": 315
        },
        "id": "zIF07XNeM9yq",
        "outputId": "3aea4d89-fd36-4b07-894c-8d4627eb1e58"
      },
      "execution_count": 124,
      "outputs": [
        {
          "output_type": "display_data",
          "data": {
            "text/plain": [
              "<Figure size 1500x200 with 1 Axes>"
            ],
            "image/png": "[encoded data removed]"
          },
          "metadata": {}
        }
      ]
    },
    {
      "cell_type": "markdown",
      "source": [
        "**Now, let's focus our analysis in months of 2018 where the Airline launched their Loyalty Program campaign which is from Feb to April**"
      ],
      "metadata": {
        "id": "GMJY0FmNCoO5"
      }
    },
    {
      "cell_type": "code",
      "source": [
        "merge_df_feb_april_2018 = merge_df[(merge_df['Enrollment Year'] == 2018) & (merge_df['Enrollment Month'] >= 2) & (merge_df['Enrollment Month'] <=4)]\n",
        "merge_df_feb_april_2018['Enrollment Year'].unique()\n",
        "#merge_df_feb_april_2018['Enrollment Month'].unique()"
      ],
      "metadata": {
        "colab": {
          "base_uri": "https://localhost:8080/",
          "height": 0
        },
        "id": "pHZ2TQ2tNTxm",
        "outputId": "c75509a4-b818-4ab4-deea-2b83b7f8fe4e"
      },
      "execution_count": 101,
      "outputs": [
        {
          "output_type": "execute_result",
          "data": {
            "text/plain": [
              "array([2018])"
            ]
          },
          "metadata": {},
          "execution_count": 101
        }
      ]
    },
    {
      "cell_type": "markdown",
      "source": [
        "First, let's get the flight activity of those members enrolled during the campaign"
      ],
      "metadata": {
        "id": "sINXcMlJO6VZ"
      }
    },
    {
      "cell_type": "code",
      "source": [
        "clh_feb_april_2018 = clh[(clh['Enrollment Year'] == 2018) & (clh['Enrollment Month'] >= 2) & (clh['Enrollment Month'] <=4)]\n",
        "clh_feb_april_2018['Enrollment Month'].unique()\n",
        "#merge_df_feb_april_2018['Enrollment Month'].unique()"
      ],
      "metadata": {
        "colab": {
          "base_uri": "https://localhost:8080/",
          "height": 0
        },
        "id": "JtuwvbstPz21",
        "outputId": "4617651f-3cd0-49dd-c2f2-0733c0122ffc"
      },
      "execution_count": 102,
      "outputs": [
        {
          "output_type": "execute_result",
          "data": {
            "text/plain": [
              "array([3, 4, 2])"
            ]
          },
          "metadata": {},
          "execution_count": 102
        }
      ]
    },
    {
      "cell_type": "code",
      "source": [
        "new_member_id = clh_feb_april_2018['Loyalty Number']\n",
        "flight_details_2018_enrollees = cfa[cfa['Loyalty Number'].isin(new_member_id)]"
      ],
      "metadata": {
        "id": "m3S0bqU8PCsw"
      },
      "execution_count": 104,
      "outputs": []
    },
    {
      "cell_type": "code",
      "source": [
        "sum_tf_2018= flight_details_2018_enrollees.groupby(['Year','Month'])['Total Flights'].sum()\n",
        "\n",
        "plt.figure(figsize=(5,2))\n",
        "sum_tf_2018.plot(kind='bar',color='violet')\n",
        "plt.xlabel(\"Year Month\")\n",
        "plt.ylabel(\"Total Flights\")\n",
        "plt.title(\"Total Flights of New Enrollees\")\n",
        "plt.show()\n",
        "sum_tf_2018"
      ],
      "metadata": {
        "colab": {
          "base_uri": "https://localhost:8080/",
          "height": 541
        },
        "id": "XwA1sI-yNizh",
        "outputId": "9ddbdcaf-4c5c-45b6-d911-68f820246d4f"
      },
      "execution_count": 125,
      "outputs": [
        {
          "output_type": "display_data",
          "data": {
            "text/plain": [
              "<Figure size 500x200 with 1 Axes>"
            ],
            "image/png": "[encoded data removed]"
          },
          "metadata": {}
        },
        {
          "output_type": "execute_result",
          "data": {
            "text/plain": [
              "Year  Month\n",
              "2018  2         127.0\n",
              "      3         205.0\n",
              "      4         252.0\n",
              "      5        1404.0\n",
              "      6        2192.0\n",
              "      7        2028.0\n",
              "      8        1760.0\n",
              "      9         580.0\n",
              "      10        558.0\n",
              "      11        548.0\n",
              "      12       1095.0\n",
              "Name: Total Flights, dtype: float64"
            ]
          },
          "metadata": {},
          "execution_count": 125
        }
      ]
    },
    {
      "cell_type": "markdown",
      "source": [
        "**The graph shows that most of the new members have travelled in the month of June, July and August 201**8"
      ],
      "metadata": {
        "id": "lN98ES-JPWTh"
      }
    },
    {
      "cell_type": "markdown",
      "source": [
        "**Let's see the demographics that composed the new enrollees during the airline campaign in 2018**"
      ],
      "metadata": {
        "id": "Q-G3cvCYE1gG"
      }
    },
    {
      "cell_type": "markdown",
      "source": [
        "Check the number of enrollees in each city location"
      ],
      "metadata": {
        "id": "EZnDXgakFCXv"
      }
    },
    {
      "cell_type": "code",
      "source": [
        "sum_city = clh_feb_april_2018.groupby('City')['Loyalty Number'].nunique().sort_values(ascending=False)\n",
        "\n",
        "plt.figure(figsize=(5,2))\n",
        "sum_city.plot(kind='bar',color='violet')\n",
        "plt.xlabel(\"City\")\n",
        "plt.ylabel(\"Enrollees\")\n",
        "plt.title(\"Total Enrollees per City\")\n",
        "plt.show()\n",
        "\n",
        "sum_city"
      ],
      "metadata": {
        "colab": {
          "base_uri": "https://localhost:8080/",
          "height": 892
        },
        "id": "_DXKN63zDGkH",
        "outputId": "69ff95b7-a07b-4a41-b620-1113f20492e7"
      },
      "execution_count": 126,
      "outputs": [
        {
          "output_type": "display_data",
          "data": {
            "text/plain": [
              "<Figure size 500x200 with 1 Axes>"
            ],
            "image/png": "[encoded data removed]"
          },
          "metadata": {}
        },
        {
          "output_type": "execute_result",
          "data": {
            "text/plain": [
              "City\n",
              "Toronto           173\n",
              "Vancouver         151\n",
              "Montreal          138\n",
              "Quebec City        42\n",
              "Ottawa             32\n",
              "Victoria           32\n",
              "Trenton            29\n",
              "Whistler           29\n",
              "Tremblant          28\n",
              "Dawson Creek       28\n",
              "West Vancouver     25\n",
              "Hull               25\n",
              "Regina             24\n",
              "Edmonton           23\n",
              "Fredericton        22\n",
              "Kingston           21\n",
              "Winnipeg           20\n",
              "Halifax            19\n",
              "Sudbury            18\n",
              "St. John's         16\n",
              "Kelowna            15\n",
              "Thunder Bay        14\n",
              "Moncton            11\n",
              "London             10\n",
              "Whitehorse          9\n",
              "Peace River         6\n",
              "Calgary             6\n",
              "Banff               4\n",
              "Charlottetown       1\n",
              "Name: Loyalty Number, dtype: int64"
            ]
          },
          "metadata": {},
          "execution_count": 126
        }
      ]
    },
    {
      "cell_type": "markdown",
      "source": [
        "**The top 3 cities with large number of enrollees are Toronto, Vancouver and Montreal**"
      ],
      "metadata": {
        "id": "nOnY_D0IF6-A"
      }
    },
    {
      "cell_type": "markdown",
      "source": [
        "Using a pie chart, let's visualize the percentage of male and female that enrolled during the campaign"
      ],
      "metadata": {
        "id": "uJVcZShpGEr2"
      }
    },
    {
      "cell_type": "code",
      "source": [
        "# Count the occurrences of each gender\n",
        "gender_counts = clh_feb_april_2018['Gender'].value_counts()\n",
        "# Plot a pie chart\n",
        "plt.figure(figsize=(3, 3))\n",
        "gender_counts.plot.pie(autopct='%1.2f%%', labels=gender_counts.index, colors=['gray', 'lightblue'], startangle=45)\n",
        "plt.title('Percentage of Female and Male')\n",
        "plt.show()\n",
        "gender_counts"
      ],
      "metadata": {
        "colab": {
          "base_uri": "https://localhost:8080/",
          "height": 342
        },
        "id": "dxH8nYFrFpHO",
        "outputId": "b9a105af-5c36-498c-d8b6-67b62c5e4e9b"
      },
      "execution_count": 127,
      "outputs": [
        {
          "output_type": "display_data",
          "data": {
            "text/plain": [
              "<Figure size 300x300 with 1 Axes>"
            ],
            "image/png": "[encoded data removed]"
          },
          "metadata": {}
        },
        {
          "output_type": "execute_result",
          "data": {
            "text/plain": [
              "Female    494\n",
              "Male      477\n",
              "Name: Gender, dtype: int64"
            ]
          },
          "metadata": {},
          "execution_count": 127
        }
      ]
    },
    {
      "cell_type": "markdown",
      "source": [
        "**Here we can see that there is not much of a difference in the number of enrollees per gender**"
      ],
      "metadata": {
        "id": "wIk-Aa9FImac"
      }
    },
    {
      "cell_type": "markdown",
      "source": [
        "Let's try with the marital status"
      ],
      "metadata": {
        "id": "wAm0rVIZIxEo"
      }
    },
    {
      "cell_type": "code",
      "source": [
        "# Count the occurrences of each gender\n",
        "status_counts = clh_feb_april_2018['Marital Status'].value_counts()\n",
        "# Plot a pie chart\n",
        "plt.figure(figsize=(3, 3))\n",
        "status_counts.plot.pie(autopct='%1.2f%%', labels=status_counts.index, colors=['gray', 'lightblue', 'blue'], startangle=120)\n",
        "plt.title('Total Enrollees by Marital Status')\n",
        "plt.show()\n",
        "status_counts"
      ],
      "metadata": {
        "colab": {
          "base_uri": "https://localhost:8080/",
          "height": 359
        },
        "id": "B54uHWjsHQGE",
        "outputId": "2da4bc00-16ee-4c75-f206-07ad98d4c1a7"
      },
      "execution_count": 128,
      "outputs": [
        {
          "output_type": "display_data",
          "data": {
            "text/plain": [
              "<Figure size 300x300 with 1 Axes>"
            ],
            "image/png": "[encoded data removed]"
          },
          "metadata": {}
        },
        {
          "output_type": "execute_result",
          "data": {
            "text/plain": [
              "Married     558\n",
              "Single      258\n",
              "Divorced    155\n",
              "Name: Marital Status, dtype: int64"
            ]
          },
          "metadata": {},
          "execution_count": 128
        }
      ]
    },
    {
      "cell_type": "markdown",
      "source": [
        "**We see here that more than half of our new enrollees are married, followed by single members**"
      ],
      "metadata": {
        "id": "FqlZb5EHJkwv"
      }
    },
    {
      "cell_type": "markdown",
      "source": [
        "Now, let's check how many of those who enrolled during the campaign have cancelled"
      ],
      "metadata": {
        "id": "DMayX8HLQdCa"
      }
    },
    {
      "cell_type": "code",
      "source": [
        "new_member_id = clh_feb_april_2018['Loyalty Number']\n",
        "cancelled_member = clh[clh['Loyalty Number'].isin(new_member_id)]"
      ],
      "metadata": {
        "id": "dmSOh7KMQnHA"
      },
      "execution_count": 110,
      "outputs": []
    },
    {
      "cell_type": "code",
      "source": [
        "cancelled_member['Enrollment Month'].unique()"
      ],
      "metadata": {
        "colab": {
          "base_uri": "https://localhost:8080/",
          "height": 0
        },
        "id": "RPhplIR-R2_Y",
        "outputId": "581ecd2b-8af1-4a39-e4b3-776c72b6b729"
      },
      "execution_count": 113,
      "outputs": [
        {
          "output_type": "execute_result",
          "data": {
            "text/plain": [
              "array([3, 4, 2])"
            ]
          },
          "metadata": {},
          "execution_count": 113
        }
      ]
    },
    {
      "cell_type": "code",
      "source": [
        "#count of new memberw who cancelled\n",
        "cancelled_count = cancelled_member['Cancellation Year'].count()\n",
        "cancelled_count"
      ],
      "metadata": {
        "colab": {
          "base_uri": "https://localhost:8080/",
          "height": 0
        },
        "id": "S1VwYlZnQ1VQ",
        "outputId": "9e420e6a-72dc-4513-de1c-3da0141ecebd"
      },
      "execution_count": 115,
      "outputs": [
        {
          "output_type": "execute_result",
          "data": {
            "text/plain": [
              "115"
            ]
          },
          "metadata": {},
          "execution_count": 115
        }
      ]
    },
    {
      "cell_type": "code",
      "source": [
        "sum_cM = cancelled_member.groupby(['Cancellation Year', 'Cancellation Month'])['Loyalty Number'].nunique()\n",
        "\n",
        "plt.figure(figsize=(5,2))\n",
        "sum_cM.plot(kind='bar',color='violet')\n",
        "plt.xlabel(\"Year Month\")\n",
        "plt.ylabel(\"Member\")\n",
        "plt.title(\"Total New Members Who Cancelled After the Campaign Period\")\n",
        "plt.show()"
      ],
      "metadata": {
        "colab": {
          "base_uri": "https://localhost:8080/",
          "height": 315
        },
        "id": "1Zhf--5YSWJ9",
        "outputId": "d0cc4e76-ce30-4d21-efd1-eff132d5f684"
      },
      "execution_count": 129,
      "outputs": [
        {
          "output_type": "display_data",
          "data": {
            "text/plain": [
              "<Figure size 500x200 with 1 Axes>"
            ],
            "image/png": "[encoded data removed]"
          },
          "metadata": {}
        }
      ]
    },
    {
      "cell_type": "markdown",
      "source": [
        "# Conclusion"
      ],
      "metadata": {
        "id": "pqTg64QkTONM"
      }
    },
    {
      "cell_type": "markdown",
      "source": [
        "After performing the above analysis, we have concluded that the campaign launched in 2018 have created a signigicant impact in its number of loyalty program members and total flights. The following insights have also been concluded:\n",
        "\n",
        "\n",
        "\n",
        "1.   The top 3 cities with large number of enrollees are Toronto, Vancouver and Montreal\n",
        "2.   More than half of the population who took advantage of the promotion were married, followed by single consumers.\n",
        "3.  Those who have enrolled during the campaign have booked their flight mostly in the months of June, July, August, May, and December.\n",
        "4.  Although this campaign can be concluded successful, 115 out of 971 new members have cancelled on the same year mostly in the month of December.\n",
        "\n"
      ],
      "metadata": {
        "id": "gwd-uRaETR-A"
      }
    }
  ]
}