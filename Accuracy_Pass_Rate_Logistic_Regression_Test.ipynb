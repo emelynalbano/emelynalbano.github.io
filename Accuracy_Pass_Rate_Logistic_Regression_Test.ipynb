{
  "nbformat": 4,
  "nbformat_minor": 0,
  "metadata": {
    "colab": {
      "provenance": [],
      "authorship_tag": "ABX9TyPlz7x29u2HP05J5O3XEYDC"
    },
    "kernelspec": {
      "name": "python3",
      "display_name": "Python 3"
    },
    "language_info": {
      "name": "python"
    }
  },
  "cells": [
    {
      "cell_type": "markdown",
      "source": [
        "**Import Libraries**"
      ],
      "metadata": {
        "id": "SI4TN-ShwyW1"
      }
    },
    {
      "cell_type": "code",
      "source": [
        "import numpy as np\n",
        "import pandas as pd\n",
        "from sklearn.linear_model import LogisticRegression\n",
        "from sklearn.model_selection import train_test_split\n",
        "from sklearn.metrics import accuracy_score\n",
        "from sklearn.preprocessing import LabelEncoder\n",
        "import statsmodels.api as sm"
      ],
      "metadata": {
        "id": "CpKlCydiwUj1"
      },
      "execution_count": 274,
      "outputs": []
    },
    {
      "cell_type": "markdown",
      "source": [
        "**Data Exploration**\n",
        "\n",
        "\n"
      ],
      "metadata": {
        "id": "peoa_ggqwugV"
      }
    },
    {
      "cell_type": "code",
      "source": [
        "#read file\n",
        "df = pd.read_csv(\"sample_data/test_data_accuracy.csv\")\n",
        "df.head()"
      ],
      "metadata": {
        "colab": {
          "base_uri": "https://localhost:8080/",
          "height": 206
        },
        "id": "SQi8sJw-wjur",
        "outputId": "e6385716-fc95-4ab4-c988-6cb0bccf5962"
      },
      "execution_count": 275,
      "outputs": [
        {
          "output_type": "execute_result",
          "data": {
            "text/plain": [
              "  Tenure market accuracy  is_pass\n",
              "0     60    ASE  100.00%        1\n",
              "1     30     RW    0.00%        0\n",
              "2     60    ASE   73.68%        0\n",
              "3     60    ASE   91.67%        1\n",
              "4     30     NM   57.14%        0"
            ],
            "text/html": [
              "\n",
              "  <div id=\"df-06b856d8-226b-4906-aecd-009d85d0eb63\" class=\"colab-df-container\">\n",
              "    <div>\n",
              "<style scoped>\n",
              "    .dataframe tbody tr th:only-of-type {\n",
              "        vertical-align: middle;\n",
              "    }\n",
              "\n",
              "    .dataframe tbody tr th {\n",
              "        vertical-align: top;\n",
              "    }\n",
              "\n",
              "    .dataframe thead th {\n",
              "        text-align: right;\n",
              "    }\n",
              "</style>\n",
              "<table border=\"1\" class=\"dataframe\">\n",
              "  <thead>\n",
              "    <tr style=\"text-align: right;\">\n",
              "      <th></th>\n",
              "      <th>Tenure</th>\n",
              "      <th>market</th>\n",
              "      <th>accuracy</th>\n",
              "      <th>is_pass</th>\n",
              "    </tr>\n",
              "  </thead>\n",
              "  <tbody>\n",
              "    <tr>\n",
              "      <th>0</th>\n",
              "      <td>60</td>\n",
              "      <td>ASE</td>\n",
              "      <td>100.00%</td>\n",
              "      <td>1</td>\n",
              "    </tr>\n",
              "    <tr>\n",
              "      <th>1</th>\n",
              "      <td>30</td>\n",
              "      <td>RW</td>\n",
              "      <td>0.00%</td>\n",
              "      <td>0</td>\n",
              "    </tr>\n",
              "    <tr>\n",
              "      <th>2</th>\n",
              "      <td>60</td>\n",
              "      <td>ASE</td>\n",
              "      <td>73.68%</td>\n",
              "      <td>0</td>\n",
              "    </tr>\n",
              "    <tr>\n",
              "      <th>3</th>\n",
              "      <td>60</td>\n",
              "      <td>ASE</td>\n",
              "      <td>91.67%</td>\n",
              "      <td>1</td>\n",
              "    </tr>\n",
              "    <tr>\n",
              "      <th>4</th>\n",
              "      <td>30</td>\n",
              "      <td>NM</td>\n",
              "      <td>57.14%</td>\n",
              "      <td>0</td>\n",
              "    </tr>\n",
              "  </tbody>\n",
              "</table>\n",
              "</div>\n",
              "    <div class=\"colab-df-buttons\">\n",
              "\n",
              "  <div class=\"colab-df-container\">\n",
              "    <button class=\"colab-df-convert\" onclick=\"convertToInteractive('df-06b856d8-226b-4906-aecd-009d85d0eb63')\"\n",
              "            title=\"Convert this dataframe to an interactive table.\"\n",
              "            style=\"display:none;\">\n",
              "\n",
              "  <svg xmlns=\"http://www.w3.org/2000/svg\" height=\"24px\" viewBox=\"0 -960 960 960\">\n",
              "    <path d=\"M120-120v-720h720v720H120Zm60-500h600v-160H180v160Zm220 220h160v-160H400v160Zm0 220h160v-160H400v160ZM180-400h160v-160H180v160Zm440 0h160v-160H620v160ZM180-180h160v-160H180v160Zm440 0h160v-160H620v160Z\"/>\n",
              "  </svg>\n",
              "    </button>\n",
              "\n",
              "  <style>\n",
              "    .colab-df-container {\n",
              "      display:flex;\n",
              "      gap: 12px;\n",
              "    }\n",
              "\n",
              "    .colab-df-convert {\n",
              "      background-color: #E8F0FE;\n",
              "      border: none;\n",
              "      border-radius: 50%;\n",
              "      cursor: pointer;\n",
              "      display: none;\n",
              "      fill: #1967D2;\n",
              "      height: 32px;\n",
              "      padding: 0 0 0 0;\n",
              "      width: 32px;\n",
              "    }\n",
              "\n",
              "    .colab-df-convert:hover {\n",
              "      background-color: #E2EBFA;\n",
              "      box-shadow: 0px 1px 2px rgba(60, 64, 67, 0.3), 0px 1px 3px 1px rgba(60, 64, 67, 0.15);\n",
              "      fill: #174EA6;\n",
              "    }\n",
              "\n",
              "    .colab-df-buttons div {\n",
              "      margin-bottom: 4px;\n",
              "    }\n",
              "\n",
              "    [theme=dark] .colab-df-convert {\n",
              "      background-color: #3B4455;\n",
              "      fill: #D2E3FC;\n",
              "    }\n",
              "\n",
              "    [theme=dark] .colab-df-convert:hover {\n",
              "      background-color: #434B5C;\n",
              "      box-shadow: 0px 1px 3px 1px rgba(0, 0, 0, 0.15);\n",
              "      filter: drop-shadow(0px 1px 2px rgba(0, 0, 0, 0.3));\n",
              "      fill: #FFFFFF;\n",
              "    }\n",
              "  </style>\n",
              "\n",
              "    <script>\n",
              "      const buttonEl =\n",
              "        document.querySelector('#df-06b856d8-226b-4906-aecd-009d85d0eb63 button.colab-df-convert');\n",
              "      buttonEl.style.display =\n",
              "        google.colab.kernel.accessAllowed ? 'block' : 'none';\n",
              "\n",
              "      async function convertToInteractive(key) {\n",
              "        const element = document.querySelector('#df-06b856d8-226b-4906-aecd-009d85d0eb63');\n",
              "        const dataTable =\n",
              "          await google.colab.kernel.invokeFunction('convertToInteractive',\n",
              "                                                    [key], {});\n",
              "        if (!dataTable) return;\n",
              "\n",
              "        const docLinkHtml = 'Like what you see? Visit the ' +\n",
              "          '<a target=\"_blank\" href=https://colab.research.google.com/notebooks/data_table.ipynb>data table notebook</a>'\n",
              "          + ' to learn more about interactive tables.';\n",
              "        element.innerHTML = '';\n",
              "        dataTable['output_type'] = 'display_data';\n",
              "        await google.colab.output.renderOutput(dataTable, element);\n",
              "        const docLink = document.createElement('div');\n",
              "        docLink.innerHTML = docLinkHtml;\n",
              "        element.appendChild(docLink);\n",
              "      }\n",
              "    </script>\n",
              "  </div>\n",
              "\n",
              "\n",
              "<div id=\"df-3140bfdd-76ec-4300-b0d5-a4f431f331ef\">\n",
              "  <button class=\"colab-df-quickchart\" onclick=\"quickchart('df-3140bfdd-76ec-4300-b0d5-a4f431f331ef')\"\n",
              "            title=\"Suggest charts\"\n",
              "            style=\"display:none;\">\n",
              "\n",
              "<svg xmlns=\"http://www.w3.org/2000/svg\" height=\"24px\"viewBox=\"0 0 24 24\"\n",
              "     width=\"24px\">\n",
              "    <g>\n",
              "        <path d=\"M19 3H5c-1.1 0-2 .9-2 2v14c0 1.1.9 2 2 2h14c1.1 0 2-.9 2-2V5c0-1.1-.9-2-2-2zM9 17H7v-7h2v7zm4 0h-2V7h2v10zm4 0h-2v-4h2v4z\"/>\n",
              "    </g>\n",
              "</svg>\n",
              "  </button>\n",
              "\n",
              "<style>\n",
              "  .colab-df-quickchart {\n",
              "      --bg-color: #E8F0FE;\n",
              "      --fill-color: #1967D2;\n",
              "      --hover-bg-color: #E2EBFA;\n",
              "      --hover-fill-color: #174EA6;\n",
              "      --disabled-fill-color: #AAA;\n",
              "      --disabled-bg-color: #DDD;\n",
              "  }\n",
              "\n",
              "  [theme=dark] .colab-df-quickchart {\n",
              "      --bg-color: #3B4455;\n",
              "      --fill-color: #D2E3FC;\n",
              "      --hover-bg-color: #434B5C;\n",
              "      --hover-fill-color: #FFFFFF;\n",
              "      --disabled-bg-color: #3B4455;\n",
              "      --disabled-fill-color: #666;\n",
              "  }\n",
              "\n",
              "  .colab-df-quickchart {\n",
              "    background-color: var(--bg-color);\n",
              "    border: none;\n",
              "    border-radius: 50%;\n",
              "    cursor: pointer;\n",
              "    display: none;\n",
              "    fill: var(--fill-color);\n",
              "    height: 32px;\n",
              "    padding: 0;\n",
              "    width: 32px;\n",
              "  }\n",
              "\n",
              "  .colab-df-quickchart:hover {\n",
              "    background-color: var(--hover-bg-color);\n",
              "    box-shadow: 0 1px 2px rgba(60, 64, 67, 0.3), 0 1px 3px 1px rgba(60, 64, 67, 0.15);\n",
              "    fill: var(--button-hover-fill-color);\n",
              "  }\n",
              "\n",
              "  .colab-df-quickchart-complete:disabled,\n",
              "  .colab-df-quickchart-complete:disabled:hover {\n",
              "    background-color: var(--disabled-bg-color);\n",
              "    fill: var(--disabled-fill-color);\n",
              "    box-shadow: none;\n",
              "  }\n",
              "\n",
              "  .colab-df-spinner {\n",
              "    border: 2px solid var(--fill-color);\n",
              "    border-color: transparent;\n",
              "    border-bottom-color: var(--fill-color);\n",
              "    animation:\n",
              "      spin 1s steps(1) infinite;\n",
              "  }\n",
              "\n",
              "  @keyframes spin {\n",
              "    0% {\n",
              "      border-color: transparent;\n",
              "      border-bottom-color: var(--fill-color);\n",
              "      border-left-color: var(--fill-color);\n",
              "    }\n",
              "    20% {\n",
              "      border-color: transparent;\n",
              "      border-left-color: var(--fill-color);\n",
              "      border-top-color: var(--fill-color);\n",
              "    }\n",
              "    30% {\n",
              "      border-color: transparent;\n",
              "      border-left-color: var(--fill-color);\n",
              "      border-top-color: var(--fill-color);\n",
              "      border-right-color: var(--fill-color);\n",
              "    }\n",
              "    40% {\n",
              "      border-color: transparent;\n",
              "      border-right-color: var(--fill-color);\n",
              "      border-top-color: var(--fill-color);\n",
              "    }\n",
              "    60% {\n",
              "      border-color: transparent;\n",
              "      border-right-color: var(--fill-color);\n",
              "    }\n",
              "    80% {\n",
              "      border-color: transparent;\n",
              "      border-right-color: var(--fill-color);\n",
              "      border-bottom-color: var(--fill-color);\n",
              "    }\n",
              "    90% {\n",
              "      border-color: transparent;\n",
              "      border-bottom-color: var(--fill-color);\n",
              "    }\n",
              "  }\n",
              "</style>\n",
              "\n",
              "  <script>\n",
              "    async function quickchart(key) {\n",
              "      const quickchartButtonEl =\n",
              "        document.querySelector('#' + key + ' button');\n",
              "      quickchartButtonEl.disabled = true;  // To prevent multiple clicks.\n",
              "      quickchartButtonEl.classList.add('colab-df-spinner');\n",
              "      try {\n",
              "        const charts = await google.colab.kernel.invokeFunction(\n",
              "            'suggestCharts', [key], {});\n",
              "      } catch (error) {\n",
              "        console.error('Error during call to suggestCharts:', error);\n",
              "      }\n",
              "      quickchartButtonEl.classList.remove('colab-df-spinner');\n",
              "      quickchartButtonEl.classList.add('colab-df-quickchart-complete');\n",
              "    }\n",
              "    (() => {\n",
              "      let quickchartButtonEl =\n",
              "        document.querySelector('#df-3140bfdd-76ec-4300-b0d5-a4f431f331ef button');\n",
              "      quickchartButtonEl.style.display =\n",
              "        google.colab.kernel.accessAllowed ? 'block' : 'none';\n",
              "    })();\n",
              "  </script>\n",
              "</div>\n",
              "    </div>\n",
              "  </div>\n"
            ],
            "application/vnd.google.colaboratory.intrinsic+json": {
              "type": "dataframe",
              "variable_name": "df",
              "summary": "{\n  \"name\": \"df\",\n  \"rows\": 3065,\n  \"fields\": [\n    {\n      \"column\": \"Tenure\",\n      \"properties\": {\n        \"dtype\": \"category\",\n        \"num_unique_values\": 4,\n        \"samples\": [\n          \"30\",\n          \"91+\",\n          \"60\"\n        ],\n        \"semantic_type\": \"\",\n        \"description\": \"\"\n      }\n    },\n    {\n      \"column\": \"market\",\n      \"properties\": {\n        \"dtype\": \"category\",\n        \"num_unique_values\": 4,\n        \"samples\": [\n          \"RW\",\n          \"FP\",\n          \"ASE\"\n        ],\n        \"semantic_type\": \"\",\n        \"description\": \"\"\n      }\n    },\n    {\n      \"column\": \"accuracy\",\n      \"properties\": {\n        \"dtype\": \"category\",\n        \"num_unique_values\": 281,\n        \"samples\": [\n          \"61.54%\",\n          \"76.47%\",\n          \"94.12%\"\n        ],\n        \"semantic_type\": \"\",\n        \"description\": \"\"\n      }\n    },\n    {\n      \"column\": \"is_pass\",\n      \"properties\": {\n        \"dtype\": \"number\",\n        \"std\": 0,\n        \"min\": 0,\n        \"max\": 1,\n        \"num_unique_values\": 2,\n        \"samples\": [\n          0,\n          1\n        ],\n        \"semantic_type\": \"\",\n        \"description\": \"\"\n      }\n    }\n  ]\n}"
            }
          },
          "metadata": {},
          "execution_count": 275
        }
      ]
    },
    {
      "cell_type": "code",
      "source": [
        "df.info()"
      ],
      "metadata": {
        "colab": {
          "base_uri": "https://localhost:8080/"
        },
        "id": "0rvyZNBdxUE_",
        "outputId": "726cb1a9-f388-46ef-d834-c975110aebed"
      },
      "execution_count": 276,
      "outputs": [
        {
          "output_type": "stream",
          "name": "stdout",
          "text": [
            "<class 'pandas.core.frame.DataFrame'>\n",
            "RangeIndex: 3065 entries, 0 to 3064\n",
            "Data columns (total 4 columns):\n",
            " #   Column    Non-Null Count  Dtype \n",
            "---  ------    --------------  ----- \n",
            " 0   Tenure    3065 non-null   object\n",
            " 1   market    3065 non-null   object\n",
            " 2   accuracy  3065 non-null   object\n",
            " 3   is_pass   3065 non-null   int64 \n",
            "dtypes: int64(1), object(3)\n",
            "memory usage: 95.9+ KB\n"
          ]
        }
      ]
    },
    {
      "cell_type": "code",
      "source": [
        "df['market'].unique()"
      ],
      "metadata": {
        "colab": {
          "base_uri": "https://localhost:8080/"
        },
        "id": "Y-3EGkVP_hTj",
        "outputId": "2932dc32-a1ec-4a26-ebf8-3fe67589e9d2"
      },
      "execution_count": 277,
      "outputs": [
        {
          "output_type": "execute_result",
          "data": {
            "text/plain": [
              "array(['ASE', 'RW', 'NM', 'FP'], dtype=object)"
            ]
          },
          "metadata": {},
          "execution_count": 277
        }
      ]
    },
    {
      "cell_type": "code",
      "source": [
        "df['Tenure'].unique()"
      ],
      "metadata": {
        "colab": {
          "base_uri": "https://localhost:8080/"
        },
        "id": "Vvkiufrv_pCE",
        "outputId": "edc50405-11c2-4862-9eba-b6444511db47"
      },
      "execution_count": 278,
      "outputs": [
        {
          "output_type": "execute_result",
          "data": {
            "text/plain": [
              "array(['60', '30', '90', '91+'], dtype=object)"
            ]
          },
          "metadata": {},
          "execution_count": 278
        }
      ]
    },
    {
      "cell_type": "markdown",
      "source": [
        "In our dataset, Tenure column has 4 unique values which are 30, 60, 90 and 90+ and market has ASE, RW, NM, FP. Here, if the accuracy score is greater than or equal to 84%, it is pass or 1 else 0."
      ],
      "metadata": {
        "id": "RT_sND4M_Xd-"
      }
    },
    {
      "cell_type": "markdown",
      "source": [
        "Let's calculate the average pass rate"
      ],
      "metadata": {
        "id": "7xlx775u_zbV"
      }
    },
    {
      "cell_type": "code",
      "source": [
        "df['is_pass'].value_counts()"
      ],
      "metadata": {
        "id": "M_JBKOgqG7v2",
        "outputId": "9cd39938-6f95-4b9f-ae19-68fbda51f764",
        "colab": {
          "base_uri": "https://localhost:8080/"
        }
      },
      "execution_count": 279,
      "outputs": [
        {
          "output_type": "execute_result",
          "data": {
            "text/plain": [
              "0    1940\n",
              "1    1125\n",
              "Name: is_pass, dtype: int64"
            ]
          },
          "metadata": {},
          "execution_count": 279
        }
      ]
    },
    {
      "cell_type": "code",
      "source": [
        "count_not_pass = len(df[df['is_pass']==0])\n",
        "count_is_pass = len(df[df['is_pass']==1])\n",
        "pct_of_not_pass = count_not_pass/(count_not_pass+count_is_pass)\n",
        "print(\"percentage of not pass\", pct_of_not_pass*100)\n",
        "pct_of_is_pass = count_is_pass/(count_is_pass+count_not_pass)\n",
        "print(\"percentage of is pass\", pct_of_is_pass*100)"
      ],
      "metadata": {
        "id": "7zRLzzFqHNRT",
        "outputId": "22173c43-10b2-4f69-a92b-3f34c14a4fb7",
        "colab": {
          "base_uri": "https://localhost:8080/"
        }
      },
      "execution_count": 280,
      "outputs": [
        {
          "output_type": "stream",
          "name": "stdout",
          "text": [
            "percentage of not pass 63.2952691680261\n",
            "percentage of is pass 36.7047308319739\n"
          ]
        }
      ]
    },
    {
      "cell_type": "code",
      "source": [
        "pass_rate = df.groupby(['market','Tenure'])['is_pass'].mean()\n",
        "pass_rate"
      ],
      "metadata": {
        "colab": {
          "base_uri": "https://localhost:8080/"
        },
        "id": "vD14aw0c_-rs",
        "outputId": "b4cce5d0-d371-4121-d985-bcf92bc811f5"
      },
      "execution_count": 281,
      "outputs": [
        {
          "output_type": "execute_result",
          "data": {
            "text/plain": [
              "market  Tenure\n",
              "ASE     60        0.666667\n",
              "        90        0.666667\n",
              "        91+       0.666667\n",
              "FP      30        0.352941\n",
              "        60        0.580645\n",
              "        90        0.615385\n",
              "        91+       0.521739\n",
              "NM      30        0.287340\n",
              "        60        0.376147\n",
              "        90        0.347741\n",
              "        91+       0.377537\n",
              "RW      30        0.270833\n",
              "        60        0.428571\n",
              "        90        0.516667\n",
              "        91+       0.524390\n",
              "Name: is_pass, dtype: float64"
            ]
          },
          "metadata": {},
          "execution_count": 281
        }
      ]
    },
    {
      "cell_type": "code",
      "source": [
        "plt.figure(figsize=(5,2))\n",
        "pass_rate.plot(kind='bar',color='violet')\n",
        "plt.xlabel(\"Market and Tenure\")\n",
        "plt.ylabel(\"Pass Rate\")\n",
        "plt.title(\"Pass Rate by Tenure and Market\")\n",
        "plt.show()"
      ],
      "metadata": {
        "colab": {
          "base_uri": "https://localhost:8080/",
          "height": 318
        },
        "id": "x_yiAJetCfjr",
        "outputId": "2496dd6a-249e-414b-ebb1-f17dc33197d5"
      },
      "execution_count": 282,
      "outputs": [
        {
          "output_type": "display_data",
          "data": {
            "text/plain": [
              "<Figure size 500x200 with 1 Axes>"
            ],
            "image/png": "[encoded data removed]"
          },
          "metadata": {}
        }
      ]
    },
    {
      "cell_type": "code",
      "source": [
        "pass_rate_per_m = df.groupby('market')['is_pass'].mean()\n",
        "pass_rate_per_m\n",
        "\n",
        "plt.figure(figsize=(5,2))\n",
        "pass_rate_per_m.plot(kind='bar',color='violet')\n",
        "plt.xlabel(\"Market\")\n",
        "plt.ylabel(\"Pass Rate\")\n",
        "plt.title(\"Pass Rate by Market\")\n",
        "plt.show()\n",
        "pass_rate_per_m"
      ],
      "metadata": {
        "colab": {
          "base_uri": "https://localhost:8080/",
          "height": 379
        },
        "id": "W63NZ3U_BItq",
        "outputId": "8535d864-f4a2-4634-cc4a-89132b2d307f"
      },
      "execution_count": 283,
      "outputs": [
        {
          "output_type": "display_data",
          "data": {
            "text/plain": [
              "<Figure size 500x200 with 1 Axes>"
            ],
            "image/png": "[encoded data removed]"
          },
          "metadata": {}
        },
        {
          "output_type": "execute_result",
          "data": {
            "text/plain": [
              "market\n",
              "ASE    0.666667\n",
              "FP     0.507317\n",
              "NM     0.347025\n",
              "RW     0.451220\n",
              "Name: is_pass, dtype: float64"
            ]
          },
          "metadata": {},
          "execution_count": 283
        }
      ]
    },
    {
      "cell_type": "code",
      "source": [
        "pass_rate_per_t = df.groupby('Tenure')['is_pass'].mean()\n",
        "pass_rate_per_t\n",
        "\n",
        "plt.figure(figsize=(5,2))\n",
        "pass_rate_per_t.plot(kind='bar',color='violet')\n",
        "plt.xlabel(\"Market\")\n",
        "plt.ylabel(\"Pass Rate\")\n",
        "plt.title(\"Pass Rate by Tenure\")\n",
        "plt.show()\n",
        "pass_rate_per_t"
      ],
      "metadata": {
        "colab": {
          "base_uri": "https://localhost:8080/",
          "height": 381
        },
        "id": "MTUQ2faMBeET",
        "outputId": "b4d428be-ae1d-40c9-b058-2308bf7cb868"
      },
      "execution_count": 284,
      "outputs": [
        {
          "output_type": "display_data",
          "data": {
            "text/plain": [
              "<Figure size 500x200 with 1 Axes>"
            ],
            "image/png": "[encoded data removed]"
          },
          "metadata": {}
        },
        {
          "output_type": "execute_result",
          "data": {
            "text/plain": [
              "Tenure\n",
              "30     0.291819\n",
              "60     0.397419\n",
              "90     0.387821\n",
              "91+    0.396694\n",
              "Name: is_pass, dtype: float64"
            ]
          },
          "metadata": {},
          "execution_count": 284
        }
      ]
    },
    {
      "cell_type": "markdown",
      "source": [
        "**Observation:**\n",
        "\n",
        "In the above graphs, we see that the market with the highest pass rate is ASE. While based on Tenure, 30 has the lowest pass rate."
      ],
      "metadata": {
        "id": "MsA0oGMxEdg8"
      }
    },
    {
      "cell_type": "markdown",
      "source": [
        "To test if market and tenure has a significant impact in passing the accuracy score, let us perform a Logistic Regression."
      ],
      "metadata": {
        "id": "7uRXFNY6EziX"
      }
    },
    {
      "cell_type": "markdown",
      "source": [
        "**Logistic Regression Model Fitting**"
      ],
      "metadata": {
        "id": "gLm5xK_kI338"
      }
    },
    {
      "cell_type": "code",
      "source": [
        "# Separate predictors (X) and target variable (y)\n",
        "X = df[['Tenure','market']] #features\n",
        "y = df['is_pass'] #target\n"
      ],
      "metadata": {
        "id": "SkvZHouYxzq_"
      },
      "execution_count": 285,
      "outputs": []
    },
    {
      "cell_type": "code",
      "source": [
        "# Convert categorical variables to dummy variables\n",
        "X = pd.get_dummies(X, drop_first=True)"
      ],
      "metadata": {
        "id": "-R2bx2I_xH2H"
      },
      "execution_count": 286,
      "outputs": []
    },
    {
      "cell_type": "code",
      "source": [
        "X_train, X_test, y_train, y_test = train_test_split(X, y, test_size=0.3, random_state=0)\n",
        "logreg = LogisticRegression()\n",
        "logreg.fit(X_train, y_train)"
      ],
      "metadata": {
        "id": "8YJcw48zI8wY",
        "outputId": "0301fe59-0d57-457e-cac6-635efea92421",
        "colab": {
          "base_uri": "https://localhost:8080/",
          "height": 74
        }
      },
      "execution_count": 287,
      "outputs": [
        {
          "output_type": "execute_result",
          "data": {
            "text/plain": [
              "LogisticRegression()"
            ],
            "text/html": [
              "<style>#sk-container-id-7 {color: black;background-color: white;}#sk-container-id-7 pre{padding: 0;}#sk-container-id-7 div.sk-toggleable {background-color: white;}#sk-container-id-7 label.sk-toggleable__label {cursor: pointer;display: block;width: 100%;margin-bottom: 0;padding: 0.3em;box-sizing: border-box;text-align: center;}#sk-container-id-7 label.sk-toggleable__label-arrow:before {content: \"▸\";float: left;margin-right: 0.25em;color: #696969;}#sk-container-id-7 label.sk-toggleable__label-arrow:hover:before {color: black;}#sk-container-id-7 div.sk-estimator:hover label.sk-toggleable__label-arrow:before {color: black;}#sk-container-id-7 div.sk-toggleable__content {max-height: 0;max-width: 0;overflow: hidden;text-align: left;background-color: #f0f8ff;}#sk-container-id-7 div.sk-toggleable__content pre {margin: 0.2em;color: black;border-radius: 0.25em;background-color: #f0f8ff;}#sk-container-id-7 input.sk-toggleable__control:checked~div.sk-toggleable__content {max-height: 200px;max-width: 100%;overflow: auto;}#sk-container-id-7 input.sk-toggleable__control:checked~label.sk-toggleable__label-arrow:before {content: \"▾\";}#sk-container-id-7 div.sk-estimator input.sk-toggleable__control:checked~label.sk-toggleable__label {background-color: #d4ebff;}#sk-container-id-7 div.sk-label input.sk-toggleable__control:checked~label.sk-toggleable__label {background-color: #d4ebff;}#sk-container-id-7 input.sk-hidden--visually {border: 0;clip: rect(1px 1px 1px 1px);clip: rect(1px, 1px, 1px, 1px);height: 1px;margin: -1px;overflow: hidden;padding: 0;position: absolute;width: 1px;}#sk-container-id-7 div.sk-estimator {font-family: monospace;background-color: #f0f8ff;border: 1px dotted black;border-radius: 0.25em;box-sizing: border-box;margin-bottom: 0.5em;}#sk-container-id-7 div.sk-estimator:hover {background-color: #d4ebff;}#sk-container-id-7 div.sk-parallel-item::after {content: \"\";width: 100%;border-bottom: 1px solid gray;flex-grow: 1;}#sk-container-id-7 div.sk-label:hover label.sk-toggleable__label {background-color: #d4ebff;}#sk-container-id-7 div.sk-serial::before {content: \"\";position: absolute;border-left: 1px solid gray;box-sizing: border-box;top: 0;bottom: 0;left: 50%;z-index: 0;}#sk-container-id-7 div.sk-serial {display: flex;flex-direction: column;align-items: center;background-color: white;padding-right: 0.2em;padding-left: 0.2em;position: relative;}#sk-container-id-7 div.sk-item {position: relative;z-index: 1;}#sk-container-id-7 div.sk-parallel {display: flex;align-items: stretch;justify-content: center;background-color: white;position: relative;}#sk-container-id-7 div.sk-item::before, #sk-container-id-7 div.sk-parallel-item::before {content: \"\";position: absolute;border-left: 1px solid gray;box-sizing: border-box;top: 0;bottom: 0;left: 50%;z-index: -1;}#sk-container-id-7 div.sk-parallel-item {display: flex;flex-direction: column;z-index: 1;position: relative;background-color: white;}#sk-container-id-7 div.sk-parallel-item:first-child::after {align-self: flex-end;width: 50%;}#sk-container-id-7 div.sk-parallel-item:last-child::after {align-self: flex-start;width: 50%;}#sk-container-id-7 div.sk-parallel-item:only-child::after {width: 0;}#sk-container-id-7 div.sk-dashed-wrapped {border: 1px dashed gray;margin: 0 0.4em 0.5em 0.4em;box-sizing: border-box;padding-bottom: 0.4em;background-color: white;}#sk-container-id-7 div.sk-label label {font-family: monospace;font-weight: bold;display: inline-block;line-height: 1.2em;}#sk-container-id-7 div.sk-label-container {text-align: center;}#sk-container-id-7 div.sk-container {/* jupyter's `normalize.less` sets `[hidden] { display: none; }` but bootstrap.min.css set `[hidden] { display: none !important; }` so we also need the `!important` here to be able to override the default hidden behavior on the sphinx rendered scikit-learn.org. See: https://github.com/scikit-learn/scikit-learn/issues/21755 */display: inline-block !important;position: relative;}#sk-container-id-7 div.sk-text-repr-fallback {display: none;}</style><div id=\"sk-container-id-7\" class=\"sk-top-container\"><div class=\"sk-text-repr-fallback\"><pre>LogisticRegression()</pre><b>In a Jupyter environment, please rerun this cell to show the HTML representation or trust the notebook. <br />On GitHub, the HTML representation is unable to render, please try loading this page with nbviewer.org.</b></div><div class=\"sk-container\" hidden><div class=\"sk-item\"><div class=\"sk-estimator sk-toggleable\"><input class=\"sk-toggleable__control sk-hidden--visually\" id=\"sk-estimator-id-7\" type=\"checkbox\" checked><label for=\"sk-estimator-id-7\" class=\"sk-toggleable__label sk-toggleable__label-arrow\">LogisticRegression</label><div class=\"sk-toggleable__content\"><pre>LogisticRegression()</pre></div></div></div></div></div>"
            ]
          },
          "metadata": {},
          "execution_count": 287
        }
      ]
    },
    {
      "cell_type": "markdown",
      "source": [
        "Predicting the test set results and calculating the accuracy"
      ],
      "metadata": {
        "id": "pVr--HeBJPZj"
      }
    },
    {
      "cell_type": "code",
      "source": [
        "y_pred = logreg.predict(X_test)\n",
        "print('Accuracy of logistic regression classifier on test set: {:.2f}'.format(logreg.score(X_test, y_test)))"
      ],
      "metadata": {
        "id": "TbASVHjIJEeM",
        "outputId": "8778e57a-e5fb-42ee-f1fd-7f626bfb7ed0",
        "colab": {
          "base_uri": "https://localhost:8080/"
        }
      },
      "execution_count": 288,
      "outputs": [
        {
          "output_type": "stream",
          "name": "stdout",
          "text": [
            "Accuracy of logistic regression classifier on test set: 0.65\n"
          ]
        }
      ]
    },
    {
      "cell_type": "code",
      "source": [
        "# Add a constant term to the features\n",
        "X_train = sm.add_constant(X_train)\n",
        "\n",
        "# Fit logistic regression model using statsmodels to get p-values\n",
        "logit_model=sm.Logit(y_train,X_train)\n",
        "result=logit_model.fit()\n",
        "\n",
        "# Print summary statistics\n",
        "print(result.summary())"
      ],
      "metadata": {
        "id": "C18k5YcUOlRN",
        "outputId": "9d5e6596-8ff0-4b0a-961d-8be6572d5a0c",
        "colab": {
          "base_uri": "https://localhost:8080/"
        }
      },
      "execution_count": 289,
      "outputs": [
        {
          "output_type": "stream",
          "name": "stdout",
          "text": [
            "Optimization terminated successfully.\n",
            "         Current function value: 0.648753\n",
            "         Iterations 5\n",
            "                           Logit Regression Results                           \n",
            "==============================================================================\n",
            "Dep. Variable:                is_pass   No. Observations:                 2145\n",
            "Model:                          Logit   Df Residuals:                     2138\n",
            "Method:                           MLE   Df Model:                            6\n",
            "Date:                Sat, 02 Mar 2024   Pseudo R-squ.:                 0.01336\n",
            "Time:                        12:58:36   Log-Likelihood:                -1391.6\n",
            "converged:                       True   LL-Null:                       -1410.4\n",
            "Covariance Type:            nonrobust   LLR p-value:                 1.290e-06\n",
            "==============================================================================\n",
            "                 coef    std err          z      P>|z|      [0.025      0.975]\n",
            "------------------------------------------------------------------------------\n",
            "const          0.1015      0.738      0.138      0.891      -1.345       1.548\n",
            "Tenure_60      0.4135      0.128      3.239      0.001       0.163       0.664\n",
            "Tenure_90      0.4069      0.135      3.014      0.003       0.142       0.672\n",
            "Tenure_91+     0.4066      0.126      3.234      0.001       0.160       0.653\n",
            "market_FP     -0.3385      0.751     -0.451      0.652      -1.810       1.133\n",
            "market_NM     -1.0348      0.733     -1.413      0.158      -2.471       0.401\n",
            "market_RW     -0.6270      0.747     -0.839      0.401      -2.092       0.838\n",
            "==============================================================================\n"
          ]
        }
      ]
    },
    {
      "cell_type": "markdown",
      "source": [
        "Confusion Matrix"
      ],
      "metadata": {
        "id": "E2qkmvyWJTI8"
      }
    },
    {
      "cell_type": "code",
      "source": [
        "# import the metrics class\n",
        "from sklearn.metrics import confusion_matrix\n",
        "\n",
        "confusion_matrix = confusion_matrix(y_test, y_pred)\n",
        "print(confusion_matrix)"
      ],
      "metadata": {
        "colab": {
          "base_uri": "https://localhost:8080/"
        },
        "id": "q7Frk0AY4TrE",
        "outputId": "c92bb289-b52e-4511-c50a-26528c766cd2"
      },
      "execution_count": 290,
      "outputs": [
        {
          "output_type": "stream",
          "name": "stdout",
          "text": [
            "[[569  14]\n",
            " [308  29]]\n"
          ]
        }
      ]
    },
    {
      "cell_type": "markdown",
      "source": [
        "The result is telling us that we have 569+29 correct predictions and 308+29 incorrect predictions.\n",
        "\n",
        "\n"
      ],
      "metadata": {
        "id": "9gczrFJvJaQD"
      }
    },
    {
      "cell_type": "markdown",
      "source": [
        "**Compute precision, recall, F-measure and support**"
      ],
      "metadata": {
        "id": "iWzduI-ULQwB"
      }
    },
    {
      "cell_type": "code",
      "source": [
        "from sklearn.metrics import classification_report\n",
        "print(classification_report(y_test, y_pred))"
      ],
      "metadata": {
        "colab": {
          "base_uri": "https://localhost:8080/"
        },
        "id": "PS-787Ez4Tuy",
        "outputId": "de44a53d-6b3b-4a63-c390-f10b08fa8fee"
      },
      "execution_count": 291,
      "outputs": [
        {
          "output_type": "stream",
          "name": "stdout",
          "text": [
            "              precision    recall  f1-score   support\n",
            "\n",
            "           0       0.65      0.98      0.78       583\n",
            "           1       0.67      0.09      0.15       337\n",
            "\n",
            "    accuracy                           0.65       920\n",
            "   macro avg       0.66      0.53      0.47       920\n",
            "weighted avg       0.66      0.65      0.55       920\n",
            "\n"
          ]
        }
      ]
    },
    {
      "cell_type": "code",
      "source": [
        "import matplotlib.pyplot as plt\n",
        "from sklearn import metrics\n",
        "\n",
        "y_pred_proba = logreg.predict_proba(X_test)[::,1]\n",
        "fpr, tpr, _ = metrics.roc_curve(y_test,  y_pred_proba)\n",
        "auc = metrics.roc_auc_score(y_test, y_pred_proba)\n",
        "plt.plot(fpr,tpr,label=\"data 1, auc=\"+str(auc))\n",
        "plt.legend(loc=4)\n",
        "plt.show()"
      ],
      "metadata": {
        "colab": {
          "base_uri": "https://localhost:8080/",
          "height": 430
        },
        "id": "3QqL_mq764Ga",
        "outputId": "a2a617b5-e485-43b2-edf9-c25442ee94e9"
      },
      "execution_count": 292,
      "outputs": [
        {
          "output_type": "display_data",
          "data": {
            "text/plain": [
              "<Figure size 640x480 with 1 Axes>"
            ],
            "image/png": "[encoded data removed]"
          },
          "metadata": {}
        }
      ]
    },
    {
      "cell_type": "markdown",
      "source": [
        "The receiver operating characteristic (ROC) curve is another common tool used with binary classifiers. The dotted line represents the ROC curve of a purely random classifier; a good classifier stays as far away from that line as possible (toward the top-left corner)."
      ],
      "metadata": {
        "id": "iYKfQVWhMP1b"
      }
    },
    {
      "cell_type": "markdown",
      "source": [
        "AUC = 0.5 would mean that the model's predictions are no better than random guessing.\n",
        "\n",
        "AUC > 0.5 indicates that the model's predictions are better than random guessing.\n",
        "\n",
        "AUC = 1 would indicate a perfect model where all positive instances are ranked higher than negative instances.\n",
        "\n",
        "Since the AUC score is 58%, it suggests that this model has some ability to discriminate between the positive and negative classes, but the discrimination is relatively weak."
      ],
      "metadata": {
        "id": "SQGzL6RkMtzW"
      }
    },
    {
      "cell_type": "markdown",
      "source": [
        "**In training a model, it's important to investigate further and potentially revise the approach to achieve desired output.**"
      ],
      "metadata": {
        "id": "ZmWIRG2FNj1k"
      }
    }
  ]
}